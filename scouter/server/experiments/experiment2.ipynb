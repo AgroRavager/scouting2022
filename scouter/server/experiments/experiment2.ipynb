{
 "cells": [
  {
   "cell_type": "code",
   "execution_count": 1,
   "id": "9dd3b0ff",
   "metadata": {},
   "outputs": [],
   "source": [
    "import sqlite3\n",
    "import os"
   ]
  },
  {
   "cell_type": "code",
   "execution_count": 2,
   "id": "655066a5",
   "metadata": {},
   "outputs": [],
   "source": [
    "# def create_db(con):\n",
    "#     con = sqlite3.connect(con)\n",
    "#     cur = con.cursor()\n",
    "\n",
    "#     teams = \"\"\"\n",
    "#     CREATE TABLE Teams (\n",
    "#         team_number int PRIMARY KEY,\n",
    "#         team_name text,\n",
    "#         city text,\n",
    "#         state text,\n",
    "#         country text\n",
    "#     );\"\"\"\n",
    "    \n",
    "#     events = \"\"\"CREATE TABLE Events (\n",
    "#         code text UNIQUE PRIMARY KEY,\n",
    "#         year int,\n",
    "#         city text,\n",
    "#         state text,\n",
    "#         start_date text,\n",
    "#         end_date text\n",
    "#     );\n",
    "#     \"\"\"\n",
    "#     cur.execute(events)\n",
    "#     cur.execute(teams)"
   ]
  },
  {
   "cell_type": "code",
   "execution_count": 3,
   "id": "59206859",
   "metadata": {},
   "outputs": [],
   "source": [
    "# create_db('hi.sqlite3')"
   ]
  },
  {
   "cell_type": "code",
   "execution_count": 13,
   "id": "bd1274f3",
   "metadata": {},
   "outputs": [],
   "source": [
    "def checkcreate(con1):\n",
    "    con = sqlite3.connect(con1)\n",
    "    cur = con.cursor()\n",
    "\n",
    "    teams = \"\"\"CREATE TABLE teams (\n",
    "        code text UNIQUE PRIMARY KEY,\n",
    "        year int,\n",
    "        city text,\n",
    "        state text,\n",
    "        start_date text,\n",
    "        end_date text\n",
    "    );\"\"\"\n",
    "    cur.execute(teams)\n",
    "    \n",
    "    events = \"\"\"CREATE TABLE Events (\n",
    "        code text UNIQUE PRIMARY KEY,\n",
    "        year int,\n",
    "        city text,\n",
    "        state text,\n",
    "        start_date text,\n",
    "        end_date text\n",
    "    );\"\"\"\n",
    "    cur.execute(events)\n",
    "    \n",
    "    checktables = \"\"\" SELECT name FROM sqlite_schema WHERE type='table';\"\"\"\n",
    "    cur.execute(checktables)\n",
    "    \n",
    "    l1 = []\n",
    "    for table in cur.fetchall():\n",
    "        l1+=table\n",
    "    l2 = ['teams','Events']\n",
    "    \n",
    "    print(l1,l2)\n",
    "    def all_exist(tables, schema):\n",
    "        return all(any(x in y for y in schema) for x in tables)\n",
    "    successfull = all_exist(l2,l1)\n",
    "\n",
    "    con.commit()\n",
    "    cur.close()\n",
    "    return(successfull)"
   ]
  },
  {
   "cell_type": "code",
   "execution_count": 14,
   "id": "241596b4",
   "metadata": {},
   "outputs": [
    {
     "name": "stdout",
     "output_type": "stream",
     "text": [
      "['teams', 'Events'] ['teams', 'Events']\n"
     ]
    },
    {
     "data": {
      "text/plain": [
       "True"
      ]
     },
     "execution_count": 14,
     "metadata": {},
     "output_type": "execute_result"
    }
   ],
   "source": [
    "checkcreate('hi4.sqlite3')"
   ]
  },
  {
   "cell_type": "code",
   "execution_count": 16,
   "id": "88693572",
   "metadata": {},
   "outputs": [],
   "source": [
    "os.remove('hi4.sqlite3')"
   ]
  },
  {
   "cell_type": "code",
   "execution_count": 24,
   "id": "cb88bb6f",
   "metadata": {},
   "outputs": [],
   "source": [
    "def create_db(con=None):\n",
    "    \n",
    "    \"\"\"Creates a simple database with the main tables.\n",
    "\n",
    "    Creates or connects to a database to create the main tables that will\n",
    "    be used.\n",
    "\n",
    "    Args:\n",
    "        db_name: The name of the database file to be created or connected to.\n",
    "    \"\"\"\n",
    "\n",
    "    con = sqlite3.connect(con)\n",
    "    cur = con.cursor()\n",
    "\n",
    "    teams = \"\"\"\n",
    "    CREATE TABLE Teams (\n",
    "        team_number int PRIMARY KEY,\n",
    "        team_name text,\n",
    "        city text,\n",
    "        state text,\n",
    "        country text\n",
    "    );\n",
    "    \"\"\"\n",
    "    cur.execute(teams)\n",
    "\n",
    "    events = \"\"\"\n",
    "    CREATE TABLE Events (\n",
    "        code text UNIQUE PRIMARY KEY,\n",
    "        year int,\n",
    "        city text,\n",
    "        state text,\n",
    "        start_date text,\n",
    "        end_date text\n",
    "    );\n",
    "    \"\"\"\n",
    "    cur.execute(events)\n",
    "\n",
    "    measures = \"\"\"\n",
    "    CREATE TABLE Measures (\n",
    "        id int PRIMARY KEY,\n",
    "        phase text,\n",
    "        measure_name text,\n",
    "        measure_time text,\n",
    "        match_id int REFERENCES matches(id),\n",
    "        team_number int REFERENCES teams(number),\n",
    "        result int,\n",
    "        score int,\n",
    "        category text\n",
    "    );\n",
    "    \"\"\"\n",
    "    cur.execute(measures)\n",
    "\n",
    "    matches = \"\"\"\n",
    "    CREATE TABLE Matches (\n",
    "        match text,\n",
    "        matchtime text,\n",
    "        alliance text,\n",
    "        station int,\n",
    "        team text,\n",
    "        PRIMARY KEY (match, alliance, station)\n",
    "    );\n",
    "    \"\"\"\n",
    "    cur.execute(matches)\n",
    "\n",
    "    status = \"\"\"\n",
    "    CREATE TABLE Status (\n",
    "        key text UNIQUE PRIMARY KEY,\n",
    "        value text\n",
    "    )\n",
    "    \"\"\"\n",
    "    cur.execute(status)\n",
    "\n",
    "    checktables = \"\"\" SELECT name FROM sqlite_schema WHERE type='table';\"\"\"\n",
    "    cur.execute(checktables)\n",
    "    \n",
    "    Tableslistschema = []\n",
    "    for table in cur.fetchall():\n",
    "        Tableslistschema += table\n",
    "    tableideal = ['Teams', 'Events', 'Measures', 'matches', 'Status']\n",
    "\n",
    "    def all_exist(tables, schema):\n",
    "        return all(any(x.title() in y for y in schema) for x in tables)\n",
    "    successfull = all_exist(tableideal,Tableslistschema)\n",
    "\n",
    "    con.commit()\n",
    "    cur.close()\n",
    "    return successfull"
   ]
  },
  {
   "cell_type": "code",
   "execution_count": 25,
   "id": "79955e24",
   "metadata": {},
   "outputs": [
    {
     "data": {
      "text/plain": [
       "True"
      ]
     },
     "execution_count": 25,
     "metadata": {},
     "output_type": "execute_result"
    }
   ],
   "source": [
    "create_db('hi5.sqlite3')"
   ]
  },
  {
   "cell_type": "code",
   "execution_count": 23,
   "id": "cfff3257",
   "metadata": {},
   "outputs": [],
   "source": [
    "os.remove('hi5.sqlite3')"
   ]
  },
  {
   "cell_type": "code",
   "execution_count": null,
   "id": "41900222",
   "metadata": {},
   "outputs": [],
   "source": []
  }
 ],
 "metadata": {
  "kernelspec": {
   "display_name": "Python 3",
   "language": "python",
   "name": "python3"
  },
  "language_info": {
   "codemirror_mode": {
    "name": "ipython",
    "version": 3
   },
   "file_extension": ".py",
   "mimetype": "text/x-python",
   "name": "python",
   "nbconvert_exporter": "python",
   "pygments_lexer": "ipython3",
   "version": "3.8.10"
  }
 },
 "nbformat": 4,
 "nbformat_minor": 5
}
