{
 "cells": [
  {
   "cell_type": "code",
   "execution_count": 38,
   "id": "2d073ba4-3d6b-4bc0-85dd-6940bf18e6c6",
   "metadata": {},
   "outputs": [],
   "source": [
    "import urllib.request\n",
    "import json\n",
    "import pandas as pd\n",
    "import sqlite3\n",
    "from datetime import datetime"
   ]
  },
  {
   "cell_type": "code",
   "execution_count": 28,
   "id": "c6543ac9-44ba-48ba-9b18-461bc29ccf9d",
   "metadata": {},
   "outputs": [],
   "source": [
    "tba_key='SRT3N9afeExlLFcaOCSNu7chw5qLOnCfz0jE0FciGNAjyICAIvjTJrjoQoUCw8EX'\n",
    "evkey = '2020wasno'"
   ]
  },
  {
   "cell_type": "code",
   "execution_count": 29,
   "id": "f22fe3c0-88d0-4241-ba89-22a1c8d3b3d7",
   "metadata": {},
   "outputs": [],
   "source": [
    "def getheader():\n",
    "    return {'X-TBA-Auth-Key': tba_key, 'User-Agent': 'frc1318scouting'}\n",
    "\n",
    "def get(endurl):\n",
    "    auth_hdr = getheader()\n",
    "    url = f'https://www.thebluealliance.com/api/v3/{endurl}'\n",
    "    req = urllib.request.Request(url, headers = auth_hdr)\n",
    "    \n",
    "    with urllib.request.urlopen(req) as resp:\n",
    "        resp_text = resp.read()\n",
    "    \n",
    "    return (resp_text)"
   ]
  },
  {
   "cell_type": "code",
   "execution_count": 30,
   "id": "8bf1a475-a1e8-404b-b4fc-d6951522ef31",
   "metadata": {},
   "outputs": [],
   "source": [
    "def get_matches(event_key):\n",
    "    return get(f'event/{str(event_key)}/matches/simple')"
   ]
  },
  {
   "cell_type": "code",
   "execution_count": 47,
   "id": "ba5f0ae8-6fc3-4bbf-b53f-11cd16e4aabc",
   "metadata": {},
   "outputs": [],
   "source": [
    "# matches_list = json.loads(get_matches(evkey))\n",
    "# matches_list"
   ]
  },
  {
   "cell_type": "code",
   "execution_count": 46,
   "id": "superb-closer",
   "metadata": {},
   "outputs": [],
   "source": [
    "# matches_dict = [{'match': match['key'], 'station': idx+1, 'team': team,'alliance': alliance, 'matchtime':\n",
    "#                  match['predicted_time']} for match in matches_list \n",
    "#              for alliance in match['alliances']\n",
    "#              for idx, team in enumerate(match['alliances'][alliance]['team_keys'])]\n",
    "# matches_dict"
   ]
  },
  {
   "cell_type": "code",
   "execution_count": 33,
   "id": "driving-credit",
   "metadata": {},
   "outputs": [],
   "source": [
    "# matchlist4 = [(match['key'],idx+1,team,alliance,match['predicted_time']) for match in matches_list \n",
    "#          for alliance in match['alliances']\n",
    "#              for idx, team in enumerate(match['alliances'][alliance]['team_keys'])]\n",
    "# matchlist4"
   ]
  },
  {
   "cell_type": "code",
   "execution_count": 15,
   "id": "2a30e806",
   "metadata": {},
   "outputs": [],
   "source": [
    "def create_matches(dbname):\n",
    "    con = sqlite3.connect(dbname)\n",
    "    cur = con.cursor()\n",
    "   \n",
    "    matches_table = \"\"\" CREATE TABLE Matches (\n",
    "                        match text,\n",
    "                        station int,\n",
    "                        team text,\n",
    "                        alliance text,\n",
    "                        matchtime text\n",
    "    );\n",
    "    \"\"\"\n",
    "    cur.execute(matches_table)\n",
    "    con.commit()\n",
    "    con.close()\n",
    "\n",
    "def insert_into_matches(dbname):\n",
    "    con = sqlite3.connect(dbname)\n",
    "    cur = con.cursor()\n",
    "    \n",
    "    insert_matches = \"\"\" INSERT INTO Matches (match, station, team, alliance, matchtime)\n",
    "                         values(?,?,?,?,?);\n",
    "    \"\"\"\n",
    "    cur.executemany(insert_matches, matchlist4)\n",
    "    con.commit()\n",
    "    cur.close()\n",
    "    \n",
    "    \n"
   ]
  },
  {
   "cell_type": "code",
   "execution_count": 9,
   "id": "stable-beach",
   "metadata": {},
   "outputs": [],
   "source": [
    "create_matches('testdb23')"
   ]
  },
  {
   "cell_type": "code",
   "execution_count": 16,
   "id": "deadly-toolbox",
   "metadata": {},
   "outputs": [],
   "source": [
    "insert_into_matches('testdb23')"
   ]
  },
  {
   "cell_type": "code",
   "execution_count": 36,
   "id": "sharing-debate",
   "metadata": {},
   "outputs": [],
   "source": [
    "def showdb(dbname):\n",
    "    con=sqlite3.connect(dbname)\n",
    "    cur=con.cursor()\n",
    "    \n",
    "    q1 = \"\"\" SELECT * FROM Matches\n",
    "    \"\"\"\n",
    "    return(pd.read_sql_query(q1,con))"
   ]
  },
  {
   "cell_type": "code",
   "execution_count": 37,
   "id": "moving-toner",
   "metadata": {},
   "outputs": [
    {
     "name": "stdout",
     "output_type": "stream",
     "text": [
      "               match  station     team alliance   matchtime\n",
      "0     2020wasno_f1m1        1  frc2930     blue  1583104822\n",
      "1     2020wasno_f1m1        2  frc2976     blue  1583104822\n",
      "2     2020wasno_f1m1        3  frc4918     blue  1583104822\n",
      "3     2020wasno_f1m1        1  frc4911      red  1583104822\n",
      "4     2020wasno_f1m1        2  frc2910      red  1583104822\n",
      "..               ...      ...      ...      ...         ...\n",
      "529  2020wasno_sf2m2        2  frc2976     blue  1583103620\n",
      "530  2020wasno_sf2m2        3  frc4918     blue  1583103620\n",
      "531  2020wasno_sf2m2        1  frc2522      red  1583103620\n",
      "532  2020wasno_sf2m2        2  frc3826      red  1583103620\n",
      "533  2020wasno_sf2m2        3  frc8032      red  1583103620\n",
      "\n",
      "[534 rows x 5 columns]\n",
      "None\n"
     ]
    }
   ],
   "source": [
    "print(showdb('testdb23'))"
   ]
  },
  {
   "cell_type": "code",
   "execution_count": 40,
   "id": "devoted-savannah",
   "metadata": {},
   "outputs": [],
   "source": [
    "def unixtodt(utime):\n",
    "    return datetime.utcfromtimestamp(utime).strftime('%Y-%m-%d %H:%M:%S')"
   ]
  },
  {
   "cell_type": "code",
   "execution_count": null,
   "id": "southeast-culture",
   "metadata": {},
   "outputs": [],
   "source": []
  }
 ],
 "metadata": {
  "kernelspec": {
   "display_name": "Python 3",
   "language": "python",
   "name": "python3"
  },
  "language_info": {
   "codemirror_mode": {
    "name": "ipython",
    "version": 3
   },
   "file_extension": ".py",
   "mimetype": "text/x-python",
   "name": "python",
   "nbconvert_exporter": "python",
   "pygments_lexer": "ipython3",
   "version": "3.9.1"
  }
 },
 "nbformat": 4,
 "nbformat_minor": 5
}
