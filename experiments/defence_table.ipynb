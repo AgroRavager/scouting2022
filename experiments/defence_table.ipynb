{
 "cells": [
  {
   "cell_type": "markdown",
   "id": "91eb8abd-2e34-4f1b-bee5-841035985e5a",
   "metadata": {},
   "source": [
    "# Categorical Data Plot"
   ]
  },
  {
   "cell_type": "markdown",
   "id": "db2f10e0-8e9f-48dc-a0ae-5003edc28d7d",
   "metadata": {},
   "source": [
    "## Imports"
   ]
  },
  {
   "cell_type": "code",
   "execution_count": 76,
   "id": "aabe1e30-042e-4145-a2dc-a80bef81aa55",
   "metadata": {},
   "outputs": [],
   "source": [
    "import pandas as pd\n",
    "import viewer.app.data as data\n",
    "import bokeh.models as models\n",
    "import bokeh.plotting as plotting"
   ]
  },
  {
   "cell_type": "code",
   "execution_count": 2,
   "id": "b3b062d6",
   "metadata": {},
   "outputs": [
    {
     "name": "stdout",
     "output_type": "stream",
     "text": [
      "Reading Viewer Data from C:\\Users\\andre\\Desktop\\robotics_stuff\\code_base_things\\scouting2022\\viewer\\app\\viewer_data.json\n"
     ]
    },
    {
     "data": {
      "text/plain": [
       "<bound method NDFrame.head of      match measure1 measure2 measure_type    phase              task  \\\n",
       "0      qm1   center       -1  categorical     auto         start_pos   \n",
       "1      qm1     left       -1  categorical     auto         start_pos   \n",
       "10     qm1        0        1        count     auto             upper   \n",
       "100    qm2    false       -1      boolean  endgame         fall_over   \n",
       "1000  qm18        0        1        count     auto             lower   \n",
       "...    ...      ...      ...          ...      ...               ...   \n",
       "995   qm18     true       -1      boolean     auto              taxi   \n",
       "996   qm18        1        3       rating     tele           defense   \n",
       "997   qm18        3        3       rating     tele           defense   \n",
       "998   qm18        3        3       rating     tele           defense   \n",
       "999   qm18        1        3       rating     tele  defended_against   \n",
       "\n",
       "     team_number  \n",
       "0        frc4683  \n",
       "1        frc4131  \n",
       "10       frc4683  \n",
       "100      frc4180  \n",
       "1000     frc4205  \n",
       "...          ...  \n",
       "995      frc4173  \n",
       "996      frc4915  \n",
       "997      frc4681  \n",
       "998      frc4131  \n",
       "999      frc4131  \n",
       "\n",
       "[1165 rows x 7 columns]>"
      ]
     },
     "execution_count": 2,
     "metadata": {},
     "output_type": "execute_result"
    }
   ],
   "source": [
    "measures = data.get_data()[0]\n",
    "measures.head"
   ]
  },
  {
   "cell_type": "code",
   "execution_count": 81,
   "id": "3030c514",
   "metadata": {},
   "outputs": [
    {
     "name": "stdout",
     "output_type": "stream",
     "text": [
      "             average defense score\n",
      "team_number                       \n",
      "frc1294                   2.000000\n",
      "frc1318                   1.500000\n",
      "frc1778                   2.000000\n",
      "frc1899                   2.000000\n",
      "frc2412                   2.000000\n",
      "frc2522                   2.500000\n",
      "frc2903                   2.000000\n",
      "frc2910                   3.000000\n",
      "frc2928                   2.000000\n",
      "frc3070                   2.000000\n",
      "frc3268                   2.000000\n",
      "frc3826                   2.500000\n",
      "frc4089                   2.000000\n",
      "frc4131                   2.000000\n",
      "frc4180                   2.000000\n",
      "frc4205                   1.000000\n",
      "frc4309                   2.000000\n",
      "frc4512                   2.000000\n",
      "frc4681                   2.000000\n",
      "frc4682                   2.666667\n",
      "frc4683                   2.000000\n",
      "frc4911                   2.666667\n",
      "frc4915                   1.500000\n",
      "frc4918                   3.000000\n",
      "frc492                    2.250000\n",
      "frc5588                   1.000000\n",
      "frc7118                   1.000000\n",
      "frc7461                   2.000000\n",
      "frc7627                   1.500000\n",
      "frc8032                   2.333333\n",
      "frc8059                   2.000000\n",
      "frc8248                   2.000000\n",
      "frc949                    2.250000\n",
      "             average defended against score\n",
      "team_number                                \n",
      "frc1294                            1.500000\n",
      "frc1318                            3.000000\n",
      "frc1778                            2.000000\n",
      "frc1899                            1.000000\n",
      "frc2412                            1.500000\n",
      "frc2903                            2.500000\n",
      "frc2910                            2.500000\n",
      "frc2928                            1.333333\n",
      "frc3070                            2.000000\n",
      "frc3826                            0.000000\n",
      "frc4131                            1.333333\n",
      "frc4205                            2.000000\n",
      "frc4512                            1.666667\n",
      "frc4682                            1.000000\n",
      "frc4683                            2.000000\n",
      "frc4911                            2.000000\n",
      "frc4915                            2.000000\n",
      "frc4918                            2.000000\n",
      "frc492                             1.000000\n",
      "frc5588                            1.000000\n",
      "frc7118                            2.000000\n",
      "frc7461                            1.000000\n",
      "frc8059                            2.500000\n",
      "frc8248                            2.333333\n",
      "frc949                             1.333333\n"
     ]
    }
   ],
   "source": [
    "defences_table = measures[measures.task.isin([\"defense\", \"defended_against\"])]\n",
    "defence_table = defences_table[defences_table.task == \"defense\"]\n",
    "defended_against_table = defences_table[defences_table.task == \"defended_against\"]\n",
    "\n",
    "defence_table = defence_table.drop([\"match\",\"measure2\",\"measure_type\",\"phase\",\"task\"], axis = 1)\n",
    "defended_against_table = defended_against_table.drop([\"match\",\"measure2\",\"measure_type\",\"phase\",\"task\"], axis = 1)\n",
    "\n",
    "defence_table[\"measure1\"] = defence_table[\"measure1\"].apply(pd.to_numeric)\n",
    "defended_against_table[\"measure1\"] = defended_against_table[\"measure1\"].apply(pd.to_numeric)\n",
    "\n",
    "defence_table = defence_table.groupby(\"team_number\").mean()\n",
    "defended_against_table = defended_against_table.groupby(\"team_number\").mean()\n",
    "\n",
    "defence_table = plotting.ColumnDataSource(defence_table.rename(columns = {\"measure1\":\"average defense score\"},\n",
    "                                     inplace = False))\n",
    "defended_against_table =  plotting.ColumnDataSource(defended_against_table.rename(columns = {\"measure1\":\"average defended against score\"},\n",
    "                                                        inplace = False))\n",
    "\n",
    "\n",
    "\n",
    "print(defence_table)\n",
    "print(defended_against_table)\n",
    "bk_defence_table_columns = [models.TableColumn(field = \"team_number\", title = \"team_number\"),\n",
    "                            models.TableColumn(field = \"average defence score\", title = \"average defence score\")\n",
    "]\n",
    "bk_defence_table = models.Data_table(source = defence_table, columns = bk_defence_table_columns)\n",
    "\n",
    "plotting.show(bk_defence_table)\n"
   ]
  },
  {
   "cell_type": "code",
   "execution_count": null,
   "metadata": {},
   "outputs": [],
   "source": []
  }
 ],
 "metadata": {
  "kernelspec": {
   "display_name": "Python 3 (ipykernel)",
   "language": "python",
   "name": "python3"
  },
  "language_info": {
   "codemirror_mode": {
    "name": "ipython",
    "version": 3
   },
   "file_extension": ".py",
   "mimetype": "text/x-python",
   "name": "python",
   "nbconvert_exporter": "python",
   "pygments_lexer": "ipython3",
   "version": "3.9.7"
  }
 },
 "nbformat": 4,
 "nbformat_minor": 5
}
