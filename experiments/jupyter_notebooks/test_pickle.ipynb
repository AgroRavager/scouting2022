{
 "cells": [
  {
   "cell_type": "code",
   "execution_count": 5,
   "id": "a7ce3a73-6821-4110-ba9d-47ce129d9c4a",
   "metadata": {},
   "outputs": [],
   "source": [
    "import pickle\n",
    "import os"
   ]
  },
  {
   "cell_type": "code",
   "execution_count": 21,
   "id": "9dcb30f4-b8a2-4a24-afa3-0b186950a6e7",
   "metadata": {},
   "outputs": [
    {
     "name": "stdout",
     "output_type": "stream",
     "text": [
      "     last_match      id                 date level  match alliance  team  \\\n",
      "0             1  206211  2020-03-01T11:12:00  qual  074-q     blue  4681   \n",
      "1             1  206208  2020-03-01T11:12:00  qual  074-q      red  8032   \n",
      "2             1  206206  2020-03-01T11:12:00  qual  074-q      red  2910   \n",
      "3             1  206207  2020-03-01T11:12:00  qual  074-q      red  4513   \n",
      "4             1  206209  2020-03-01T11:12:00  qual  074-q     blue  4309   \n",
      "..          ...     ...                  ...   ...    ...      ...   ...   \n",
      "439          12  205773  2020-02-29T11:00:00  qual  001-q     blue  8059   \n",
      "440          12  205770  2020-02-29T11:00:00  qual  001-q      red  2412   \n",
      "441          12  205771  2020-02-29T11:00:00  qual  001-q     blue  1318   \n",
      "442          12  205768  2020-02-29T11:00:00  qual  001-q      red  4131   \n",
      "443          12  205769  2020-02-29T11:00:00  qual  001-q      red  4683   \n",
      "\n",
      "    station  event_id  \n",
      "0         3     25395  \n",
      "1         3     25395  \n",
      "2         1     25395  \n",
      "3         2     25395  \n",
      "4         1     25395  \n",
      "..      ...       ...  \n",
      "439       3     25395  \n",
      "440       3     25395  \n",
      "441       1     25395  \n",
      "442       1     25395  \n",
      "443       2     25395  \n",
      "\n",
      "[444 rows x 9 columns]\n"
     ]
    }
   ],
   "source": [
    "with open('2020wasno.pickle', 'rb') as dbfile:\n",
    "    db = pickle.load(dbfile)\n",
    "    print(db['schedule'])\n",
    "#     for keys in db:\n",
    "        #print(keys, db[keys])\n",
    "#         print(db['measures'])"
   ]
  },
  {
   "cell_type": "code",
   "execution_count": null,
   "id": "4a1a92ab-dbb1-4cd6-ab38-cb4e130900ae",
   "metadata": {},
   "outputs": [],
   "source": []
  }
 ],
 "metadata": {
  "kernelspec": {
   "display_name": "Python 3",
   "language": "python",
   "name": "python3"
  },
  "language_info": {
   "codemirror_mode": {
    "name": "ipython",
    "version": 3
   },
   "file_extension": ".py",
   "mimetype": "text/x-python",
   "name": "python",
   "nbconvert_exporter": "python",
   "pygments_lexer": "ipython3",
   "version": "3.8.10"
  }
 },
 "nbformat": 4,
 "nbformat_minor": 5
}
