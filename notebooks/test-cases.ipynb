{
 "cells": [
  {
   "cell_type": "markdown",
   "metadata": {},
   "source": [
    "# Creation of Evil Test Cases for Viewer Application\n",
    "The viewer application needs to be resiliant. In other words, it shouldn't crash or display gibberish to the users if the data isn't what it expects.\n",
    "\n",
    "This notebook creates Sqlite database files for testing the following\n",
    "situations:\n",
    "1. The database is completely empty. There are no teams or matches loaded into the database.\n",
    "2. The match schedule has been loaded into the database, but there are no teams or measures.\n",
    "3. The teams and matches are loaded, but the competition has not started, so the measures table is empty.\n",
    "4. Only 1 match has been played.\n",
    "5. Only a few matches have been played. There should be separate files with 1, 2, 3, 5, 8, 10, and 15 matches.\n",
    "6. There are 20 matches that have been played, but some measures (e.g., tele_upper_measure1) have been completely removed from the Measures table."
   ]
  },
  {
   "cell_type": "markdown",
   "metadata": {},
   "source": [
    "## I. Notebook Setup"
   ]
  },
  {
   "cell_type": "code",
   "execution_count": 1,
   "metadata": {},
   "outputs": [],
   "source": [
    "import pandas as pd\n",
    "import sqlite3"
   ]
  },
  {
   "cell_type": "code",
   "execution_count": 2,
   "metadata": {},
   "outputs": [],
   "source": [
    "# Connection to full set of test data (20 matches)\n",
    "con20 = sqlite3.connect(\"../databases/2022testdata-qm20.sqlite3\")"
   ]
  },
  {
   "cell_type": "markdown",
   "metadata": {},
   "source": [
    "## II. Scenario #3: Teams and Matches Loaded, but no Measures"
   ]
  },
  {
   "cell_type": "code",
   "execution_count": 3,
   "metadata": {},
   "outputs": [],
   "source": [
    "# Create copy of test data\n",
    "con0 = sqlite3.connect(\"../databases/2022testdata-qm0.sqlite3\")\n",
    "con20.backup(con0)"
   ]
  },
  {
   "cell_type": "code",
   "execution_count": 4,
   "metadata": {},
   "outputs": [
    {
     "data": {
      "text/html": [
       "<div>\n",
       "<style scoped>\n",
       "    .dataframe tbody tr th:only-of-type {\n",
       "        vertical-align: middle;\n",
       "    }\n",
       "\n",
       "    .dataframe tbody tr th {\n",
       "        vertical-align: top;\n",
       "    }\n",
       "\n",
       "    .dataframe thead th {\n",
       "        text-align: right;\n",
       "    }\n",
       "</style>\n",
       "<table border=\"1\" class=\"dataframe\">\n",
       "  <thead>\n",
       "    <tr style=\"text-align: right;\">\n",
       "      <th></th>\n",
       "      <th>match</th>\n",
       "      <th>team_number</th>\n",
       "      <th>phase</th>\n",
       "      <th>task</th>\n",
       "      <th>measure1</th>\n",
       "      <th>measure2</th>\n",
       "      <th>measure_type</th>\n",
       "    </tr>\n",
       "  </thead>\n",
       "  <tbody>\n",
       "  </tbody>\n",
       "</table>\n",
       "</div>"
      ],
      "text/plain": [
       "Empty DataFrame\n",
       "Columns: [match, team_number, phase, task, measure1, measure2, measure_type]\n",
       "Index: []"
      ]
     },
     "execution_count": 4,
     "metadata": {},
     "output_type": "execute_result"
    }
   ],
   "source": [
    "# Delete All Measures\n",
    "con0.execute(\"DELETE FROM Measures;\")\n",
    "con0.commit()\n",
    "pd.read_sql(\"SELECT * FROM Measures;\", con0)"
   ]
  },
  {
   "cell_type": "code",
   "execution_count": 5,
   "metadata": {},
   "outputs": [
    {
     "data": {
      "text/html": [
       "<div>\n",
       "<style scoped>\n",
       "    .dataframe tbody tr th:only-of-type {\n",
       "        vertical-align: middle;\n",
       "    }\n",
       "\n",
       "    .dataframe tbody tr th {\n",
       "        vertical-align: top;\n",
       "    }\n",
       "\n",
       "    .dataframe thead th {\n",
       "        text-align: right;\n",
       "    }\n",
       "</style>\n",
       "<table border=\"1\" class=\"dataframe\">\n",
       "  <thead>\n",
       "    <tr style=\"text-align: right;\">\n",
       "      <th></th>\n",
       "      <th>key</th>\n",
       "      <th>value</th>\n",
       "    </tr>\n",
       "  </thead>\n",
       "  <tbody>\n",
       "    <tr>\n",
       "      <th>0</th>\n",
       "      <td>match</td>\n",
       "      <td>qm1</td>\n",
       "    </tr>\n",
       "    <tr>\n",
       "      <th>1</th>\n",
       "      <td>event</td>\n",
       "      <td>testdata-2022-qm0</td>\n",
       "    </tr>\n",
       "  </tbody>\n",
       "</table>\n",
       "</div>"
      ],
      "text/plain": [
       "     key              value\n",
       "0  match                qm1\n",
       "1  event  testdata-2022-qm0"
      ]
     },
     "execution_count": 5,
     "metadata": {},
     "output_type": "execute_result"
    }
   ],
   "source": [
    "def set_status(con, match, event):\n",
    "    \"\"\"Sets Status table to current match and event.\n",
    "\n",
    "    Returns modified Status table as Pandas DataFrame.\n",
    "    \"\"\"\n",
    "    sql = \"\"\"\n",
    "        UPDATE Status\n",
    "        SET value = ?\n",
    "        WHERE key = 'match';\n",
    "    \"\"\"\n",
    "    con.execute(sql, (match,))\n",
    "\n",
    "    sql = \"\"\"\n",
    "        UPDATE Status\n",
    "        SET value = ?\n",
    "        WHERE key = 'event';\n",
    "    \"\"\"\n",
    "    con.execute(sql, (event,))\n",
    "\n",
    "    con.commit()\n",
    "    return pd.read_sql(\"SELECT * FROM Status;\", con)\n",
    "\n",
    "set_status(con0, 'qm1', 'testdata-2022-qm0')\n"
   ]
  },
  {
   "cell_type": "code",
   "execution_count": 6,
   "metadata": {},
   "outputs": [
    {
     "data": {
      "text/plain": [
       "array(['qm1', 'qm10', 'qm11', 'qm12', 'qm13', 'qm14', 'qm15', 'qm16',\n",
       "       'qm17', 'qm18', 'qm19', 'qm2', 'qm20', 'qm21', 'qm22', 'qm23',\n",
       "       'qm24', 'qm25', 'qm26', 'qm27', 'qm28', 'qm29', 'qm3', 'qm30',\n",
       "       'qm31', 'qm32', 'qm33', 'qm34', 'qm35', 'qm36', 'qm37', 'qm38',\n",
       "       'qm39', 'qm4', 'qm40', 'qm41', 'qm42', 'qm43', 'qm44', 'qm45',\n",
       "       'qm46', 'qm47', 'qm48', 'qm49', 'qm5', 'qm50', 'qm51', 'qm52',\n",
       "       'qm53', 'qm54', 'qm55', 'qm56', 'qm57', 'qm58', 'qm59', 'qm6',\n",
       "       'qm60', 'qm61', 'qm62', 'qm63', 'qm64', 'qm65', 'qm66', 'qm67',\n",
       "       'qm68', 'qm69', 'qm7', 'qm70', 'qm71', 'qm72', 'qm73', 'qm74',\n",
       "       'qm8', 'qm9'], dtype=object)"
      ]
     },
     "execution_count": 6,
     "metadata": {},
     "output_type": "execute_result"
    }
   ],
   "source": [
    "def remove_playoffs(con):\n",
    "    \"\"\" Removes all playoff matches from the matches table.\n",
    "\n",
    "    Simulates what the matches table will look like prior to matches\n",
    "    starting and during qualification matches.\n",
    "\n",
    "    Returns a list of matches that are in the modified matches table.\n",
    "    \"\"\"\n",
    "    sql = \"\"\"\n",
    "        DELETE FROM Matches\n",
    "              WHERE match NOT LIKE 'qm%';\n",
    "    \"\"\"\n",
    "    con.execute(sql)\n",
    "    con.commit()\n",
    "    matches = pd.read_sql(\"SELECT * FROM Matches;\", con)\n",
    "    return matches.match[matches.match.str.startswith(\"qm\")].unique()\n",
    "\n",
    "remove_playoffs(con0)"
   ]
  },
  {
   "cell_type": "code",
   "execution_count": 7,
   "metadata": {},
   "outputs": [],
   "source": [
    "con0.close()\n",
    "con20.close()"
   ]
  },
  {
   "cell_type": "markdown",
   "metadata": {},
   "source": [
    "## II. Scenario #2: No Teams or Measures"
   ]
  },
  {
   "cell_type": "code",
   "execution_count": 8,
   "metadata": {},
   "outputs": [],
   "source": [
    "con0 = sqlite3.connect(\"../databases/2022testdata-qm0.sqlite3\")\n",
    "con_noteams = sqlite3.connect(\"../databases/2022testdata-qm0-noteams.sqlite3\")\n",
    "con0.backup(con_noteams)"
   ]
  },
  {
   "cell_type": "code",
   "execution_count": 9,
   "metadata": {},
   "outputs": [
    {
     "data": {
      "text/html": [
       "<div>\n",
       "<style scoped>\n",
       "    .dataframe tbody tr th:only-of-type {\n",
       "        vertical-align: middle;\n",
       "    }\n",
       "\n",
       "    .dataframe tbody tr th {\n",
       "        vertical-align: top;\n",
       "    }\n",
       "\n",
       "    .dataframe thead th {\n",
       "        text-align: right;\n",
       "    }\n",
       "</style>\n",
       "<table border=\"1\" class=\"dataframe\">\n",
       "  <thead>\n",
       "    <tr style=\"text-align: right;\">\n",
       "      <th></th>\n",
       "      <th>team_number</th>\n",
       "      <th>team_name</th>\n",
       "      <th>city</th>\n",
       "      <th>state</th>\n",
       "      <th>country</th>\n",
       "    </tr>\n",
       "  </thead>\n",
       "  <tbody>\n",
       "  </tbody>\n",
       "</table>\n",
       "</div>"
      ],
      "text/plain": [
       "Empty DataFrame\n",
       "Columns: [team_number, team_name, city, state, country]\n",
       "Index: []"
      ]
     },
     "execution_count": 9,
     "metadata": {},
     "output_type": "execute_result"
    }
   ],
   "source": [
    "# Delete All Measures\n",
    "con_noteams.execute(\"DELETE FROM Teams;\")\n",
    "con_noteams.commit()\n",
    "pd.read_sql(\"SELECT * FROM Teams;\", con_noteams)"
   ]
  },
  {
   "cell_type": "code",
   "execution_count": 10,
   "metadata": {},
   "outputs": [
    {
     "data": {
      "text/html": [
       "<div>\n",
       "<style scoped>\n",
       "    .dataframe tbody tr th:only-of-type {\n",
       "        vertical-align: middle;\n",
       "    }\n",
       "\n",
       "    .dataframe tbody tr th {\n",
       "        vertical-align: top;\n",
       "    }\n",
       "\n",
       "    .dataframe thead th {\n",
       "        text-align: right;\n",
       "    }\n",
       "</style>\n",
       "<table border=\"1\" class=\"dataframe\">\n",
       "  <thead>\n",
       "    <tr style=\"text-align: right;\">\n",
       "      <th></th>\n",
       "      <th>key</th>\n",
       "      <th>value</th>\n",
       "    </tr>\n",
       "  </thead>\n",
       "  <tbody>\n",
       "    <tr>\n",
       "      <th>0</th>\n",
       "      <td>match</td>\n",
       "      <td>qm1</td>\n",
       "    </tr>\n",
       "    <tr>\n",
       "      <th>1</th>\n",
       "      <td>event</td>\n",
       "      <td>2022-testdata-qm0-noteams</td>\n",
       "    </tr>\n",
       "  </tbody>\n",
       "</table>\n",
       "</div>"
      ],
      "text/plain": [
       "     key                      value\n",
       "0  match                        qm1\n",
       "1  event  2022-testdata-qm0-noteams"
      ]
     },
     "execution_count": 10,
     "metadata": {},
     "output_type": "execute_result"
    }
   ],
   "source": [
    "set_status(con_noteams, 'qm1', '2022-testdata-qm0-noteams')"
   ]
  },
  {
   "cell_type": "code",
   "execution_count": 11,
   "metadata": {},
   "outputs": [],
   "source": [
    "con_noteams.close()\n",
    "con0.close()"
   ]
  },
  {
   "cell_type": "markdown",
   "metadata": {},
   "source": [
    "## III. Scenario #1: Empty Database"
   ]
  },
  {
   "cell_type": "code",
   "execution_count": 12,
   "metadata": {},
   "outputs": [],
   "source": [
    "con_noteams = sqlite3.connect(\"../databases/2022testdata-qm0-noteams.sqlite3\")\n",
    "con_empty = sqlite3.connect(\"../databases/2022testdata-qm0-empty.sqlite3\")\n",
    "con_noteams.backup(con_empty)"
   ]
  },
  {
   "cell_type": "code",
   "execution_count": 13,
   "metadata": {},
   "outputs": [
    {
     "data": {
      "text/html": [
       "<div>\n",
       "<style scoped>\n",
       "    .dataframe tbody tr th:only-of-type {\n",
       "        vertical-align: middle;\n",
       "    }\n",
       "\n",
       "    .dataframe tbody tr th {\n",
       "        vertical-align: top;\n",
       "    }\n",
       "\n",
       "    .dataframe thead th {\n",
       "        text-align: right;\n",
       "    }\n",
       "</style>\n",
       "<table border=\"1\" class=\"dataframe\">\n",
       "  <thead>\n",
       "    <tr style=\"text-align: right;\">\n",
       "      <th></th>\n",
       "      <th>match</th>\n",
       "      <th>match_time</th>\n",
       "      <th>alliance</th>\n",
       "      <th>station</th>\n",
       "      <th>team_number</th>\n",
       "    </tr>\n",
       "  </thead>\n",
       "  <tbody>\n",
       "  </tbody>\n",
       "</table>\n",
       "</div>"
      ],
      "text/plain": [
       "Empty DataFrame\n",
       "Columns: [match, match_time, alliance, station, team_number]\n",
       "Index: []"
      ]
     },
     "execution_count": 13,
     "metadata": {},
     "output_type": "execute_result"
    }
   ],
   "source": [
    "# Delete All Matches\n",
    "con_empty.execute(\"DELETE FROM Matches;\")\n",
    "con_empty.commit()\n",
    "pd.read_sql(\"SELECT * FROM Matches;\", con_empty)"
   ]
  },
  {
   "cell_type": "code",
   "execution_count": 14,
   "metadata": {},
   "outputs": [],
   "source": [
    "con_noteams.close()\n",
    "con_empty.close()"
   ]
  },
  {
   "cell_type": "markdown",
   "metadata": {},
   "source": [
    "## IV. Scenario #4: Only 1 Match Played"
   ]
  },
  {
   "cell_type": "code",
   "execution_count": 49,
   "metadata": {},
   "outputs": [],
   "source": [
    "con20 = sqlite3.connect(\"../databases/2022testdata-qm20.sqlite3\")\n",
    "con1 = sqlite3.connect(\"../databases/2022testdata-qm1.sqlite3\")\n",
    "con20.backup(con1)"
   ]
  },
  {
   "cell_type": "code",
   "execution_count": 50,
   "metadata": {},
   "outputs": [
    {
     "data": {
      "text/plain": [
       "array(['qm1', 'qm10', 'qm11', 'qm12', 'qm13', 'qm14', 'qm15', 'qm16',\n",
       "       'qm17', 'qm18', 'qm19', 'qm2', 'qm20', 'qm21', 'qm22', 'qm23',\n",
       "       'qm24', 'qm25', 'qm26', 'qm27', 'qm28', 'qm29', 'qm3', 'qm30',\n",
       "       'qm31', 'qm32', 'qm33', 'qm34', 'qm35', 'qm36', 'qm37', 'qm38',\n",
       "       'qm39', 'qm4', 'qm40', 'qm41', 'qm42', 'qm43', 'qm44', 'qm45',\n",
       "       'qm46', 'qm47', 'qm48', 'qm49', 'qm5', 'qm50', 'qm51', 'qm52',\n",
       "       'qm53', 'qm54', 'qm55', 'qm56', 'qm57', 'qm58', 'qm59', 'qm6',\n",
       "       'qm60', 'qm61', 'qm62', 'qm63', 'qm64', 'qm65', 'qm66', 'qm67',\n",
       "       'qm68', 'qm69', 'qm7', 'qm70', 'qm71', 'qm72', 'qm73', 'qm74',\n",
       "       'qm8', 'qm9'], dtype=object)"
      ]
     },
     "execution_count": 50,
     "metadata": {},
     "output_type": "execute_result"
    }
   ],
   "source": [
    "remove_playoffs(con1)"
   ]
  },
  {
   "cell_type": "code",
   "execution_count": 51,
   "metadata": {},
   "outputs": [],
   "source": [
    "# Remove non-qualification measures\n",
    "sql = \"DELETE FROM Measures WHERE match NOT LIKE 'qm%';\"\n",
    "con1.execute(sql)\n",
    "con1.commit()"
   ]
  },
  {
   "cell_type": "code",
   "execution_count": 52,
   "metadata": {},
   "outputs": [],
   "source": [
    "def match_key(match):\n",
    "    try:\n",
    "        key = int(match[2:])\n",
    "    except:\n",
    "        key = 999999\n",
    "    return key\n"
   ]
  },
  {
   "cell_type": "code",
   "execution_count": 53,
   "metadata": {},
   "outputs": [
    {
     "data": {
      "text/plain": [
       "9"
      ]
     },
     "execution_count": 53,
     "metadata": {},
     "output_type": "execute_result"
    }
   ],
   "source": [
    "match_key('qm9')"
   ]
  },
  {
   "cell_type": "code",
   "execution_count": 54,
   "metadata": {},
   "outputs": [],
   "source": [
    "con1.create_function(\"QMKEY\", 1, match_key, deterministic=True)"
   ]
  },
  {
   "cell_type": "code",
   "execution_count": 55,
   "metadata": {},
   "outputs": [],
   "source": [
    "def filter_measures(con, latest_match):\n",
    "    \"\"\"Removes measures for all matches after `latest_match`\n",
    "\n",
    "    This function assumes that there are only qualification matches in\n",
    "    the database.\n",
    "\n",
    "    Args:\n",
    "        con: A sqlite3 connection object.\n",
    "        latest_match: A TBA style match string, e.g., \"qm5\"\n",
    "    \"\"\"\n",
    "    latest_sortkey = match_key(latest_match)\n",
    "    \n",
    "    sql = \"\"\"\n",
    "        DELETE FROM Measures\n",
    "         WHERE QMKEY(match) > ?;\n",
    "    \"\"\"\n",
    "    con.execute(sql, (latest_sortkey,))\n",
    "    con.commit()"
   ]
  },
  {
   "cell_type": "code",
   "execution_count": 56,
   "metadata": {},
   "outputs": [],
   "source": [
    "filter_measures(con1, \"qm1\")"
   ]
  },
  {
   "cell_type": "code",
   "execution_count": 57,
   "metadata": {},
   "outputs": [],
   "source": [
    "measures = pd.read_sql_query(\"SELECT match FROM Measures;\", con1)"
   ]
  },
  {
   "cell_type": "code",
   "execution_count": 58,
   "metadata": {},
   "outputs": [
    {
     "data": {
      "text/plain": [
       "array(['qm1'], dtype=object)"
      ]
     },
     "execution_count": 58,
     "metadata": {},
     "output_type": "execute_result"
    }
   ],
   "source": [
    "measures.match.unique()"
   ]
  },
  {
   "cell_type": "code",
   "execution_count": 59,
   "metadata": {},
   "outputs": [],
   "source": [
    "con1.close()\n",
    "con20.close()"
   ]
  },
  {
   "cell_type": "markdown",
   "metadata": {},
   "source": [
    "## V. Scenario #4: Only 2 Matches played"
   ]
  },
  {
   "cell_type": "code",
   "execution_count": 60,
   "metadata": {},
   "outputs": [],
   "source": [
    "con20 = sqlite3.connect(\"../databases/2022testdata-qm20.sqlite3\")\n",
    "con2 = sqlite3.connect(\"../databases/2022testdata-qm2.sqlite3\")\n",
    "con20.backup(con2)"
   ]
  },
  {
   "cell_type": "code",
   "execution_count": 61,
   "metadata": {
    "tags": []
   },
   "outputs": [
    {
     "data": {
      "text/html": [
       "<div>\n",
       "<style scoped>\n",
       "    .dataframe tbody tr th:only-of-type {\n",
       "        vertical-align: middle;\n",
       "    }\n",
       "\n",
       "    .dataframe tbody tr th {\n",
       "        vertical-align: top;\n",
       "    }\n",
       "\n",
       "    .dataframe thead th {\n",
       "        text-align: right;\n",
       "    }\n",
       "</style>\n",
       "<table border=\"1\" class=\"dataframe\">\n",
       "  <thead>\n",
       "    <tr style=\"text-align: right;\">\n",
       "      <th></th>\n",
       "      <th>match</th>\n",
       "    </tr>\n",
       "  </thead>\n",
       "  <tbody>\n",
       "    <tr>\n",
       "      <th>0</th>\n",
       "      <td>qm1</td>\n",
       "    </tr>\n",
       "    <tr>\n",
       "      <th>1</th>\n",
       "      <td>qm1</td>\n",
       "    </tr>\n",
       "    <tr>\n",
       "      <th>2</th>\n",
       "      <td>qm1</td>\n",
       "    </tr>\n",
       "    <tr>\n",
       "      <th>3</th>\n",
       "      <td>qm1</td>\n",
       "    </tr>\n",
       "    <tr>\n",
       "      <th>4</th>\n",
       "      <td>qm1</td>\n",
       "    </tr>\n",
       "    <tr>\n",
       "      <th>...</th>\n",
       "      <td>...</td>\n",
       "    </tr>\n",
       "    <tr>\n",
       "      <th>127</th>\n",
       "      <td>qm2</td>\n",
       "    </tr>\n",
       "    <tr>\n",
       "      <th>128</th>\n",
       "      <td>qm2</td>\n",
       "    </tr>\n",
       "    <tr>\n",
       "      <th>129</th>\n",
       "      <td>qm2</td>\n",
       "    </tr>\n",
       "    <tr>\n",
       "      <th>130</th>\n",
       "      <td>qm2</td>\n",
       "    </tr>\n",
       "    <tr>\n",
       "      <th>131</th>\n",
       "      <td>qm2</td>\n",
       "    </tr>\n",
       "  </tbody>\n",
       "</table>\n",
       "<p>132 rows × 1 columns</p>\n",
       "</div>"
      ],
      "text/plain": [
       "    match\n",
       "0     qm1\n",
       "1     qm1\n",
       "2     qm1\n",
       "3     qm1\n",
       "4     qm1\n",
       "..    ...\n",
       "127   qm2\n",
       "128   qm2\n",
       "129   qm2\n",
       "130   qm2\n",
       "131   qm2\n",
       "\n",
       "[132 rows x 1 columns]"
      ]
     },
     "execution_count": 61,
     "metadata": {},
     "output_type": "execute_result"
    }
   ],
   "source": [
    "remove_playoffs(con2)\n",
    "sql = \"DELETE FROM Measures WHERE match NOT LIKE 'qm%';\"\n",
    "con2.execute(sql)\n",
    "con2.commit()\n",
    "con2.create_function(\"QMKEY\", 1, match_key, deterministic=True)\n",
    "filter_measures(con2, \"qm2\")\n",
    "measures = pd.read_sql_query(\"SELECT match FROM Measures;\", con2)\n",
    "measures"
   ]
  },
  {
   "cell_type": "markdown",
   "metadata": {},
   "source": [
    "## IV. Scenario #4: Only 5 Matches Played"
   ]
  },
  {
   "cell_type": "code",
   "execution_count": 62,
   "metadata": {},
   "outputs": [],
   "source": [
    "con20 = sqlite3.connect(\"../databases/2022testdata-qm20.sqlite3\")\n",
    "con5 = sqlite3.connect(\"../databases/2022testdata-qm5.sqlite3\")\n",
    "con20.backup(con5)"
   ]
  },
  {
   "cell_type": "code",
   "execution_count": 63,
   "metadata": {
    "tags": []
   },
   "outputs": [
    {
     "data": {
      "text/html": [
       "<div>\n",
       "<style scoped>\n",
       "    .dataframe tbody tr th:only-of-type {\n",
       "        vertical-align: middle;\n",
       "    }\n",
       "\n",
       "    .dataframe tbody tr th {\n",
       "        vertical-align: top;\n",
       "    }\n",
       "\n",
       "    .dataframe thead th {\n",
       "        text-align: right;\n",
       "    }\n",
       "</style>\n",
       "<table border=\"1\" class=\"dataframe\">\n",
       "  <thead>\n",
       "    <tr style=\"text-align: right;\">\n",
       "      <th></th>\n",
       "      <th>match</th>\n",
       "    </tr>\n",
       "  </thead>\n",
       "  <tbody>\n",
       "    <tr>\n",
       "      <th>0</th>\n",
       "      <td>qm1</td>\n",
       "    </tr>\n",
       "    <tr>\n",
       "      <th>1</th>\n",
       "      <td>qm1</td>\n",
       "    </tr>\n",
       "    <tr>\n",
       "      <th>2</th>\n",
       "      <td>qm1</td>\n",
       "    </tr>\n",
       "    <tr>\n",
       "      <th>3</th>\n",
       "      <td>qm1</td>\n",
       "    </tr>\n",
       "    <tr>\n",
       "      <th>4</th>\n",
       "      <td>qm1</td>\n",
       "    </tr>\n",
       "    <tr>\n",
       "      <th>...</th>\n",
       "      <td>...</td>\n",
       "    </tr>\n",
       "    <tr>\n",
       "      <th>285</th>\n",
       "      <td>qm5</td>\n",
       "    </tr>\n",
       "    <tr>\n",
       "      <th>286</th>\n",
       "      <td>qm5</td>\n",
       "    </tr>\n",
       "    <tr>\n",
       "      <th>287</th>\n",
       "      <td>qm5</td>\n",
       "    </tr>\n",
       "    <tr>\n",
       "      <th>288</th>\n",
       "      <td>qm5</td>\n",
       "    </tr>\n",
       "    <tr>\n",
       "      <th>289</th>\n",
       "      <td>qm5</td>\n",
       "    </tr>\n",
       "  </tbody>\n",
       "</table>\n",
       "<p>290 rows × 1 columns</p>\n",
       "</div>"
      ],
      "text/plain": [
       "    match\n",
       "0     qm1\n",
       "1     qm1\n",
       "2     qm1\n",
       "3     qm1\n",
       "4     qm1\n",
       "..    ...\n",
       "285   qm5\n",
       "286   qm5\n",
       "287   qm5\n",
       "288   qm5\n",
       "289   qm5\n",
       "\n",
       "[290 rows x 1 columns]"
      ]
     },
     "execution_count": 63,
     "metadata": {},
     "output_type": "execute_result"
    }
   ],
   "source": [
    "remove_playoffs(con5)\n",
    "sql = \"DELETE FROM Measures WHERE match NOT LIKE 'qm%';\"\n",
    "con5.execute(sql)\n",
    "con5.commit()\n",
    "con5.create_function(\"QMKEY\", 1, match_key, deterministic=True)\n",
    "filter_measures(con5, \"qm5\")\n",
    "measures = pd.read_sql_query(\"SELECT match FROM Measures;\", con5)\n",
    "measures"
   ]
  },
  {
   "cell_type": "code",
   "execution_count": 64,
   "metadata": {},
   "outputs": [],
   "source": [
    "con5.close()\n",
    "con20.close()"
   ]
  },
  {
   "cell_type": "code",
   "execution_count": 65,
   "metadata": {},
   "outputs": [],
   "source": [
    "## VI. Missing Measures\n",
    "con20 = sqlite3.connect(\"../databases/2022testdata-qm20.sqlite3\")\n",
    "conmm = sqlite3.connect(\"../databases/2022testdata-qm20-mm.sqlite3\")\n",
    "con20.backup(conmm)"
   ]
  },
  {
   "cell_type": "code",
   "execution_count": 66,
   "metadata": {},
   "outputs": [],
   "source": [
    "remove_playoffs(conmm)\n",
    "sql = \"DELETE FROM Measures WHERE match NOT LIKE 'qm%';\"\n",
    "conmm.execute(sql)\n",
    "conmm.commit()"
   ]
  },
  {
   "cell_type": "code",
   "execution_count": 67,
   "metadata": {},
   "outputs": [
    {
     "data": {
      "text/html": [
       "<div>\n",
       "<style scoped>\n",
       "    .dataframe tbody tr th:only-of-type {\n",
       "        vertical-align: middle;\n",
       "    }\n",
       "\n",
       "    .dataframe tbody tr th {\n",
       "        vertical-align: top;\n",
       "    }\n",
       "\n",
       "    .dataframe thead th {\n",
       "        text-align: right;\n",
       "    }\n",
       "</style>\n",
       "<table border=\"1\" class=\"dataframe\">\n",
       "  <thead>\n",
       "    <tr style=\"text-align: right;\">\n",
       "      <th></th>\n",
       "      <th>match</th>\n",
       "      <th>team_number</th>\n",
       "      <th>phase</th>\n",
       "      <th>task</th>\n",
       "      <th>measure1</th>\n",
       "      <th>measure2</th>\n",
       "      <th>measure_type</th>\n",
       "    </tr>\n",
       "  </thead>\n",
       "  <tbody>\n",
       "  </tbody>\n",
       "</table>\n",
       "</div>"
      ],
      "text/plain": [
       "Empty DataFrame\n",
       "Columns: [match, team_number, phase, task, measure1, measure2, measure_type]\n",
       "Index: []"
      ]
     },
     "execution_count": 67,
     "metadata": {},
     "output_type": "execute_result"
    }
   ],
   "source": [
    "sql = \"\"\"\n",
    "    DELETE FROM Measures\n",
    "     WHERE task = 'lower' and phase = 'tele';\n",
    "\"\"\"\n",
    "conmm.execute(sql)\n",
    "conmm.commit()\n",
    "\n",
    "sql = \"\"\"\n",
    "    SELECT * FROM Measures\n",
    "     WHERE task = 'lower' and phase = 'tele';\n",
    "\"\"\"\n",
    "pd.read_sql_query(sql, conmm)"
   ]
  },
  {
   "cell_type": "code",
   "execution_count": 68,
   "metadata": {},
   "outputs": [
    {
     "data": {
      "text/html": [
       "<div>\n",
       "<style scoped>\n",
       "    .dataframe tbody tr th:only-of-type {\n",
       "        vertical-align: middle;\n",
       "    }\n",
       "\n",
       "    .dataframe tbody tr th {\n",
       "        vertical-align: top;\n",
       "    }\n",
       "\n",
       "    .dataframe thead th {\n",
       "        text-align: right;\n",
       "    }\n",
       "</style>\n",
       "<table border=\"1\" class=\"dataframe\">\n",
       "  <thead>\n",
       "    <tr style=\"text-align: right;\">\n",
       "      <th></th>\n",
       "      <th>match</th>\n",
       "      <th>team_number</th>\n",
       "      <th>phase</th>\n",
       "      <th>task</th>\n",
       "      <th>measure1</th>\n",
       "      <th>measure2</th>\n",
       "      <th>measure_type</th>\n",
       "    </tr>\n",
       "  </thead>\n",
       "  <tbody>\n",
       "  </tbody>\n",
       "</table>\n",
       "</div>"
      ],
      "text/plain": [
       "Empty DataFrame\n",
       "Columns: [match, team_number, phase, task, measure1, measure2, measure_type]\n",
       "Index: []"
      ]
     },
     "execution_count": 68,
     "metadata": {},
     "output_type": "execute_result"
    }
   ],
   "source": [
    "sql = \"\"\"\n",
    "    DELETE FROM Measures\n",
    "     WHERE task = 'taxi' and phase = 'auto';\n",
    "\"\"\"\n",
    "conmm.execute(sql)\n",
    "conmm.commit()\n",
    "\n",
    "sql = \"\"\"\n",
    "    SELECT * FROM Measures\n",
    "     WHERE task = 'taxi' and phase = 'auto';\n",
    "\"\"\"\n",
    "pd.read_sql_query(sql, conmm)"
   ]
  },
  {
   "cell_type": "code",
   "execution_count": 69,
   "metadata": {},
   "outputs": [
    {
     "data": {
      "text/html": [
       "<div>\n",
       "<style scoped>\n",
       "    .dataframe tbody tr th:only-of-type {\n",
       "        vertical-align: middle;\n",
       "    }\n",
       "\n",
       "    .dataframe tbody tr th {\n",
       "        vertical-align: top;\n",
       "    }\n",
       "\n",
       "    .dataframe thead th {\n",
       "        text-align: right;\n",
       "    }\n",
       "</style>\n",
       "<table border=\"1\" class=\"dataframe\">\n",
       "  <thead>\n",
       "    <tr style=\"text-align: right;\">\n",
       "      <th></th>\n",
       "      <th>match</th>\n",
       "      <th>team_number</th>\n",
       "      <th>phase</th>\n",
       "      <th>task</th>\n",
       "      <th>measure1</th>\n",
       "      <th>measure2</th>\n",
       "      <th>measure_type</th>\n",
       "    </tr>\n",
       "  </thead>\n",
       "  <tbody>\n",
       "  </tbody>\n",
       "</table>\n",
       "</div>"
      ],
      "text/plain": [
       "Empty DataFrame\n",
       "Columns: [match, team_number, phase, task, measure1, measure2, measure_type]\n",
       "Index: []"
      ]
     },
     "execution_count": 69,
     "metadata": {},
     "output_type": "execute_result"
    }
   ],
   "source": [
    "sql = \"\"\"\n",
    "    DELETE FROM Measures\n",
    "     WHERE task = 'defense' and phase = 'endgame';\n",
    "\"\"\"\n",
    "conmm.execute(sql)\n",
    "conmm.commit()\n",
    "\n",
    "sql = \"\"\"\n",
    "    SELECT * FROM Measures\n",
    "     WHERE task = 'defense' and phase = 'endgame';\n",
    "\"\"\"\n",
    "pd.read_sql_query(sql, conmm)"
   ]
  },
  {
   "cell_type": "code",
   "execution_count": 70,
   "metadata": {},
   "outputs": [],
   "source": [
    "conmm.close()\n",
    "con20.close()"
   ]
  },
  {
   "cell_type": "code",
   "execution_count": null,
   "metadata": {},
   "outputs": [],
   "source": []
  }
 ],
 "metadata": {
  "interpreter": {
   "hash": "622662e39195f9db46de82df37f929670d45b54f6bdc65e67a392fbc3c5201f4"
  },
  "kernelspec": {
   "display_name": "Python 3 (ipykernel)",
   "language": "python",
   "name": "python3"
  },
  "language_info": {
   "codemirror_mode": {
    "name": "ipython",
    "version": 3
   },
   "file_extension": ".py",
   "mimetype": "text/x-python",
   "name": "python",
   "nbconvert_exporter": "python",
   "pygments_lexer": "ipython3",
   "version": "3.9.7"
  }
 },
 "nbformat": 4,
 "nbformat_minor": 4
}
