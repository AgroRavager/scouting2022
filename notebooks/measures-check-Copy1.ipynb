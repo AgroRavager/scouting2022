{
 "cells": [
  {
   "cell_type": "markdown",
   "id": "070c1678-3cb3-416d-80cd-3bd773f9abed",
   "metadata": {},
   "source": [
    "# Test Data Checker and Exporter"
   ]
  },
  {
   "cell_type": "markdown",
   "id": "903ad2c7-fbc7-4af0-8bfe-3c3922ec5537",
   "metadata": {},
   "source": [
    "## I. Setup Code"
   ]
  },
  {
   "cell_type": "code",
   "execution_count": 14,
   "id": "a0132146",
   "metadata": {},
   "outputs": [],
   "source": [
    "import sys\n",
    "sys.path.append('/home/frc1318/scouting/scouting2022/scouter')"
   ]
  },
  {
   "cell_type": "code",
   "execution_count": 15,
   "id": "d5b6f979-f5bd-442e-ac77-90a28d386b9a",
   "metadata": {},
   "outputs": [],
   "source": [
    "import pickle\n",
    "import sqlite3\n",
    "import pathlib\n",
    "import json\n",
    "\n",
    "import pandas as pd\n",
    "import xlsxwriter\n",
    "\n",
    "import server.event as event\n",
    "import server.database as database\n",
    "import server.tba as tba\n",
    "import server.config as config"
   ]
  },
  {
   "cell_type": "code",
   "execution_count": 16,
   "id": "95ed86ea-69bb-4f44-8dbe-d812899e8846",
   "metadata": {},
   "outputs": [],
   "source": [
    "con = database.get_con()"
   ]
  },
  {
   "cell_type": "markdown",
   "id": "202da340-93d1-43f3-ab8f-4abbccebdd22",
   "metadata": {},
   "source": [
    "## II. Code to Set Event and Current Match"
   ]
  },
  {
   "cell_type": "code",
   "execution_count": null,
   "id": "1826d85e-5a36-4a4f-a78b-f41663195a32",
   "metadata": {},
   "outputs": [],
   "source": [
    "event.set_current_event(\"2022testdata\")"
   ]
  },
  {
   "cell_type": "code",
   "execution_count": null,
   "id": "9cdabf31-4c6a-4f84-b0d8-1b206367c6b7",
   "metadata": {
    "tags": []
   },
   "outputs": [],
   "source": [
    "event.set_current_match(\"qm4\")"
   ]
  },
  {
   "cell_type": "markdown",
   "id": "7b0b0437-b8c3-4f2d-adf1-67d3c6a99681",
   "metadata": {},
   "source": [
    "## III. Code to Review Scouting Data"
   ]
  },
  {
   "cell_type": "code",
   "execution_count": 17,
   "id": "f63858b9-64a6-4aa9-93a6-f3a73d26dd13",
   "metadata": {},
   "outputs": [],
   "source": [
    "def get_match_measures(match):\n",
    "    qry = \"\"\"\n",
    "        SELECT * FROM Measures\n",
    "         WHERE match = ?\n",
    "      ORDER BY team_number;\"\"\"\n",
    "    return pd.read_sql(qry, con, params=(match,))\n",
    "\n",
    "pd.set_option('display.max_rows', None)\n",
    "\n",
    "def match_teams(match):\n",
    "    qry = f\"\"\"SELECT Matches.alliance, Matches.station, Matches.team_number, Teams.team_name\n",
    "               FROM Matches\n",
    "               LEFT JOIN Teams\n",
    "               ON Matches.team_number = Teams.team_number\n",
    "               WHERE Matches.match='{match}';\"\"\"\n",
    "    teams_df = pd.read_sql(qry, con)\n",
    "    return teams_df\n",
    "\n",
    "def get_team_measures(team):\n",
    "    qry = f\"SELECT * FROM Measures WHERE team_number = '{team}'\"\n",
    "    team_df = pd.read_sql(qry, con)\n",
    "    return team_df\n",
    "\n",
    "def spot_check_measures(match = None, team_number = None, alliance = None, station = None):\n",
    "    con.row_factory = sqlite3.Row\n",
    "    cur = con.cursor()\n",
    "    query = \"\"\"\n",
    "    SELECT * FROM Measures\n",
    "    WHERE match = ?\n",
    "    AND team_number = ?\n",
    "    ORDER BY task, phase;\n",
    "    \"\"\"\n",
    "    if (team_number is None and alliance is not None and station is not None):\n",
    "        team_number = event.get_team(match, alliance, station, con=con)\n",
    "    cur.execute(query, (match, team_number))\n",
    "    rows = cur.fetchall()\n",
    "    measures = [dict(row) for row in rows]\n",
    "    con.row_factory = None\n",
    "    return pd.DataFrame(measures)"
   ]
  },
  {
   "cell_type": "markdown",
   "id": "386bb554-83bc-4bce-87bf-3695fe7598d3",
   "metadata": {},
   "source": [
    "## IV. Code to Write Data to File"
   ]
  },
  {
   "cell_type": "code",
   "execution_count": null,
   "id": "ac064978-07d1-48e2-9a43-3219a10d60c8",
   "metadata": {},
   "outputs": [],
   "source": [
    "matches = pd.read_sql(\"SELECT * FROM Matches;\", con)\n",
    "print(matches.shape)\n",
    "matches.head()"
   ]
  },
  {
   "cell_type": "code",
   "execution_count": null,
   "id": "ccba75b6-5ab4-40fd-b0a9-f9d0d38f4721",
   "metadata": {},
   "outputs": [],
   "source": [
    "measures = pd.read_sql(\"SELECT * FROM Measures;\", con)\n",
    "print(measures.shape)\n",
    "measures.head()"
   ]
  },
  {
   "cell_type": "code",
   "execution_count": null,
   "id": "d8001b3b-edfa-43c5-9f01-f96e42a49e42",
   "metadata": {},
   "outputs": [],
   "source": [
    "status = pd.read_sql(\"SELECT * FROM Status;\", con)\n",
    "status"
   ]
  },
  {
   "cell_type": "code",
   "execution_count": null,
   "id": "709b9ea4-5cbe-473c-b5ef-df531876927b",
   "metadata": {},
   "outputs": [],
   "source": [
    "teams = pd.read_sql(\"SELECT * FROM Teams;\", con)\n",
    "print(teams.shape)\n",
    "teams.head()"
   ]
  },
  {
   "cell_type": "code",
   "execution_count": null,
   "id": "08a2d86a-e683-4bf2-84d6-21bc1d69a573",
   "metadata": {},
   "outputs": [],
   "source": [
    "with open(\"2022testdata.pickle\", \"wb\") as pfile:\n",
    "    pickle.dump({\"matches\": matches, \"measures\": measures, \"status\": status, \"teams\": teams}, pfile)"
   ]
  },
  {
   "cell_type": "markdown",
   "id": "6acf88a6-51b3-4f14-a362-379e7937e6dd",
   "metadata": {},
   "source": [
    "## Write Data to Excel File"
   ]
  },
  {
   "cell_type": "code",
   "execution_count": null,
   "id": "3b3fb341-57f6-4073-a164-a79cdb633f1d",
   "metadata": {},
   "outputs": [],
   "source": [
    "#writes measures, teams, matches, and status tables to different sheets in dfs.xlsx file in the notebooks folder\n",
    "excel_path = pathlib.Path().absolute().joinpath('dfs.xlsx')\n",
    "with pd.ExcelWriter(excel_path) as writer:\n",
    "    measures.to_excel(writer, sheet_name = 'measures')\n",
    "    teams.to_excel(writer, sheet_name = 'teams')\n",
    "    matches.to_excel(writer, sheet_name  = 'matches')\n",
    "    status.to_excel(writer, sheet_name = 'status')"
   ]
  },
  {
   "cell_type": "markdown",
   "id": "e78e0af8",
   "metadata": {},
   "source": [
    "## Widgets"
   ]
  },
  {
   "cell_type": "code",
   "execution_count": 18,
   "id": "9fe85a26",
   "metadata": {},
   "outputs": [],
   "source": [
    "from ipywidgets import widgets\n",
    "from IPython.display import display\n",
    "import IPython"
   ]
  },
  {
   "cell_type": "code",
   "execution_count": 19,
   "id": "707493da",
   "metadata": {},
   "outputs": [],
   "source": [
    "def print_df(button=None):\n",
    "    with out:\n",
    "        if funcw.value == 'spot_check':\n",
    "            display(spot_check_measures(match = matchp.value, team_number = teamp.value))\n",
    "        elif funcw.value == 'match_measures':\n",
    "            match_df = get_match_measures(matchp.value)\n",
    "#             display(match_df)\n",
    "            display(match_df[match_df['measure1']!='0'])\n",
    "        elif funcw.value == 'team_measures':\n",
    "            display(get_team_measures(teamp.value))\n",
    "        elif funcw.value == 'match_teams':\n",
    "            display(match_teams(matchp.value))\n",
    "def clear_print(button=None):\n",
    "    out.clear_output()\n",
    "\n",
    "team_df = pd.read_sql('SELECT team_number AS team FROM Teams', con)\n",
    "team_list = team_df['team'].tolist()\n",
    "match_df = pd.read_sql('SELECT DISTINCT match FROM Matches;', con)\n",
    "match_list = match_df[[x.startswith('qm') for x in match_df['match']]]['match'].tolist()\n",
    "match_list.sort(key = lambda x: int(x[2:]))\n",
    "\n",
    "funcw = widgets.ToggleButtons(\n",
    "    options=['spot_check','match_measures', 'team_measures','match_teams'],\n",
    "    description='measures',\n",
    "    disabled=False)\n",
    "matchp = widgets.Dropdown(\n",
    "    options = match_list,\n",
    "    value='qm1',\n",
    "    description='match:',\n",
    "    disabled=False)\n",
    "teamp = widgets.Dropdown(\n",
    "    options = team_list,\n",
    "    value=None,\n",
    "    description='team:',\n",
    "    disabled=False)\n",
    "show_button = widgets.Button(description = 'show data')\n",
    "clear_button = widgets.Button(description = 'clear output')\n",
    "out = widgets.Output(layout={'border': '1px solid black'})\n",
    "def show_dfs2(button=None):\n",
    "    with out2:\n",
    "        if funce.value == 'year_events':\n",
    "            events_df = pd.DataFrame(tba.get_events_year(year_text.value))\n",
    "            display(events_df[['end_date', 'key','city','state_prov']])\n",
    "        if funce.value == 'year_districts':\n",
    "            districts_df = pd.DataFrame(tba.get_districts(year_text.value))\n",
    "            display(districts_df)\n",
    "        if funce.value == 'district_events':\n",
    "            try:\n",
    "                events_df = pd.DataFrame(tba.get_events(year_text.value))\n",
    "                display(events_df[['state_prov','city', 'end_date', 'key']])\n",
    "            except:\n",
    "                print('Invalid district code')\n",
    "def clear2(button=None):\n",
    "    out2.clear_output()\n",
    "funce = widgets.ToggleButtons(\n",
    "    options=['year_events', 'year_districts', 'district_events'],\n",
    "    description='events',\n",
    "    disabled=False)\n",
    "\n",
    "year_text = widgets.Text(\n",
    "    value='2022',\n",
    "    description='Year/district:',\n",
    "    disabled=False)\n",
    "show_button2 = widgets.Button(description = 'show data')\n",
    "clear_button2 = widgets.Button(description = 'clear output')\n",
    "out2 = widgets.Output(layout={'border': '1px solid black'})"
   ]
  },
  {
   "cell_type": "code",
   "execution_count": 20,
   "id": "02b4d0f7",
   "metadata": {},
   "outputs": [
    {
     "name": "stdout",
     "output_type": "stream",
     "text": [
      "Arguments needed for each measure:\n",
      "spot_check: match, team\n",
      "match_measures: match\n",
      "team_meausres: team\n",
      "match_teams: match\n"
     ]
    },
    {
     "data": {
      "application/vnd.jupyter.widget-view+json": {
       "model_id": "a574ff01a98b4e9a8e18d33d04964300",
       "version_major": 2,
       "version_minor": 0
      },
      "text/plain": [
       "ToggleButtons(description='measures', options=('spot_check', 'match_measures', 'team_measures', 'match_teams')…"
      ]
     },
     "metadata": {},
     "output_type": "display_data"
    },
    {
     "data": {
      "application/vnd.jupyter.widget-view+json": {
       "model_id": "560bc21776e34485ba801a56a814c17d",
       "version_major": 2,
       "version_minor": 0
      },
      "text/plain": [
       "Dropdown(description='team:', options=('frc1294', 'frc1318', 'frc1425', 'frc1778', 'frc1899', 'frc2046', 'frc2…"
      ]
     },
     "metadata": {},
     "output_type": "display_data"
    },
    {
     "data": {
      "application/vnd.jupyter.widget-view+json": {
       "model_id": "1efb4d399d0b45bcacd4ba09e5b42a27",
       "version_major": 2,
       "version_minor": 0
      },
      "text/plain": [
       "Dropdown(description='match:', options=('qm1', 'qm2', 'qm3', 'qm4', 'qm5', 'qm6', 'qm7', 'qm8', 'qm9', 'qm10',…"
      ]
     },
     "metadata": {},
     "output_type": "display_data"
    },
    {
     "data": {
      "application/vnd.jupyter.widget-view+json": {
       "model_id": "b8e05650d1b9443eaa05dab76fe4b9c0",
       "version_major": 2,
       "version_minor": 0
      },
      "text/plain": [
       "Button(description='show data', style=ButtonStyle())"
      ]
     },
     "metadata": {},
     "output_type": "display_data"
    },
    {
     "data": {
      "application/vnd.jupyter.widget-view+json": {
       "model_id": "af4b525bf306429a9bc516dc738aaf7b",
       "version_major": 2,
       "version_minor": 0
      },
      "text/plain": [
       "Button(description='clear output', style=ButtonStyle())"
      ]
     },
     "metadata": {},
     "output_type": "display_data"
    },
    {
     "data": {
      "application/vnd.jupyter.widget-view+json": {
       "model_id": "9c623782c1e6417498b545ef1e52b0db",
       "version_major": 2,
       "version_minor": 0
      },
      "text/plain": [
       "Output(layout=Layout(border_bottom='1px solid black', border_left='1px solid black', border_right='1px solid b…"
      ]
     },
     "metadata": {},
     "output_type": "display_data"
    }
   ],
   "source": [
    "print(\"\"\"Arguments needed for each measure:\n",
    "spot_check: match, team\n",
    "match_measures: match\n",
    "team_meausres: team\n",
    "match_teams: match\"\"\")\n",
    "display(funcw)\n",
    "display(teamp)\n",
    "display(matchp)\n",
    "display(show_button)\n",
    "show_button.on_click(print_df)\n",
    "display(clear_button)\n",
    "clear_button.on_click(clear_print)\n",
    "display(out)"
   ]
  },
  {
   "cell_type": "code",
   "execution_count": null,
   "id": "b78e8cfd",
   "metadata": {},
   "outputs": [],
   "source": [
    "display(funce)\n",
    "display(year_text)\n",
    "display(show_button2)\n",
    "show_button2.on_click(show_dfs2)\n",
    "display(clear_button2)\n",
    "clear_button2.on_click(clear2)\n",
    "display(out2)"
   ]
  },
  {
   "cell_type": "code",
   "execution_count": 16,
   "id": "29c0fa8d",
   "metadata": {},
   "outputs": [],
   "source": [
    "event.import_measures('331test.csv')"
   ]
  },
  {
   "cell_type": "code",
   "execution_count": 11,
   "id": "68ddfdbc",
   "metadata": {},
   "outputs": [
    {
     "data": {
      "text/html": [
       "<div>\n",
       "<style scoped>\n",
       "    .dataframe tbody tr th:only-of-type {\n",
       "        vertical-align: middle;\n",
       "    }\n",
       "\n",
       "    .dataframe tbody tr th {\n",
       "        vertical-align: top;\n",
       "    }\n",
       "\n",
       "    .dataframe thead th {\n",
       "        text-align: right;\n",
       "    }\n",
       "</style>\n",
       "<table border=\"1\" class=\"dataframe\">\n",
       "  <thead>\n",
       "    <tr style=\"text-align: right;\">\n",
       "      <th></th>\n",
       "      <th>match</th>\n",
       "      <th>team_number</th>\n",
       "      <th>phase</th>\n",
       "      <th>task</th>\n",
       "      <th>measure1</th>\n",
       "      <th>measure2</th>\n",
       "      <th>measure_type</th>\n",
       "    </tr>\n",
       "  </thead>\n",
       "  <tbody>\n",
       "    <tr>\n",
       "      <th>0</th>\n",
       "      <td>qm1</td>\n",
       "      <td>frc1318</td>\n",
       "      <td>tele</td>\n",
       "      <td>upper</td>\n",
       "      <td>14</td>\n",
       "      <td>4</td>\n",
       "      <td>count</td>\n",
       "    </tr>\n",
       "    <tr>\n",
       "      <th>1</th>\n",
       "      <td>qm9</td>\n",
       "      <td>frc1318</td>\n",
       "      <td>tele</td>\n",
       "      <td>upper</td>\n",
       "      <td>74</td>\n",
       "      <td>6</td>\n",
       "      <td>count</td>\n",
       "    </tr>\n",
       "    <tr>\n",
       "      <th>2</th>\n",
       "      <td>qm15</td>\n",
       "      <td>frc1318</td>\n",
       "      <td>tele</td>\n",
       "      <td>upper</td>\n",
       "      <td>4</td>\n",
       "      <td>4</td>\n",
       "      <td>count</td>\n",
       "    </tr>\n",
       "  </tbody>\n",
       "</table>\n",
       "</div>"
      ],
      "text/plain": [
       "  match team_number phase   task measure1  measure2 measure_type\n",
       "0   qm1     frc1318  tele  upper       14         4        count\n",
       "1   qm9     frc1318  tele  upper       74         6        count\n",
       "2  qm15     frc1318  tele  upper        4         4        count"
      ]
     },
     "execution_count": 11,
     "metadata": {},
     "output_type": "execute_result"
    }
   ],
   "source": [
    "pd.read_sql('SELECT * FROM Measures WHERE team_number = \"frc1318\" AND phase = \"tele\" AND task = \"upper\";', con)"
   ]
  },
  {
   "cell_type": "code",
   "execution_count": 12,
   "id": "8f47c6e8",
   "metadata": {},
   "outputs": [],
   "source": [
    "event.export_measures('331test.csv')"
   ]
  },
  {
   "cell_type": "code",
   "execution_count": 13,
   "id": "58c7b505",
   "metadata": {},
   "outputs": [
    {
     "data": {
      "text/html": [
       "<div>\n",
       "<style scoped>\n",
       "    .dataframe tbody tr th:only-of-type {\n",
       "        vertical-align: middle;\n",
       "    }\n",
       "\n",
       "    .dataframe tbody tr th {\n",
       "        vertical-align: top;\n",
       "    }\n",
       "\n",
       "    .dataframe thead th {\n",
       "        text-align: right;\n",
       "    }\n",
       "</style>\n",
       "<table border=\"1\" class=\"dataframe\">\n",
       "  <thead>\n",
       "    <tr style=\"text-align: right;\">\n",
       "      <th></th>\n",
       "      <th>match</th>\n",
       "      <th>team_number</th>\n",
       "      <th>phase</th>\n",
       "      <th>task</th>\n",
       "      <th>measure1</th>\n",
       "      <th>measure2</th>\n",
       "      <th>measure_type</th>\n",
       "    </tr>\n",
       "  </thead>\n",
       "  <tbody>\n",
       "    <tr>\n",
       "      <th>3714</th>\n",
       "      <td>qm32</td>\n",
       "      <td>frc4682</td>\n",
       "      <td>auto</td>\n",
       "      <td>taxi</td>\n",
       "      <td>false</td>\n",
       "      <td>-1</td>\n",
       "      <td>boolean</td>\n",
       "    </tr>\n",
       "    <tr>\n",
       "      <th>3715</th>\n",
       "      <td>qm32</td>\n",
       "      <td>frc4682</td>\n",
       "      <td>endgame</td>\n",
       "      <td>temp_disabled</td>\n",
       "      <td>false</td>\n",
       "      <td>-1</td>\n",
       "      <td>boolean</td>\n",
       "    </tr>\n",
       "    <tr>\n",
       "      <th>3716</th>\n",
       "      <td>qm32</td>\n",
       "      <td>frc4682</td>\n",
       "      <td>auto</td>\n",
       "      <td>upper</td>\n",
       "      <td>0</td>\n",
       "      <td>0</td>\n",
       "      <td>count</td>\n",
       "    </tr>\n",
       "    <tr>\n",
       "      <th>3717</th>\n",
       "      <td>qm32</td>\n",
       "      <td>frc4682</td>\n",
       "      <td>tele</td>\n",
       "      <td>upper</td>\n",
       "      <td>0</td>\n",
       "      <td>0</td>\n",
       "      <td>count</td>\n",
       "    </tr>\n",
       "    <tr>\n",
       "      <th>3718</th>\n",
       "      <td>qm32</td>\n",
       "      <td>frc2412</td>\n",
       "      <td>auto</td>\n",
       "      <td>start_pos</td>\n",
       "      <td>right</td>\n",
       "      <td>-1</td>\n",
       "      <td>categorical</td>\n",
       "    </tr>\n",
       "  </tbody>\n",
       "</table>\n",
       "</div>"
      ],
      "text/plain": [
       "     match team_number    phase           task measure1 measure2 measure_type\n",
       "3714  qm32     frc4682     auto           taxi    false       -1      boolean\n",
       "3715  qm32     frc4682  endgame  temp_disabled    false       -1      boolean\n",
       "3716  qm32     frc4682     auto          upper        0        0        count\n",
       "3717  qm32     frc4682     tele          upper        0        0        count\n",
       "3718  qm32     frc2412     auto      start_pos    right       -1  categorical"
      ]
     },
     "execution_count": 13,
     "metadata": {},
     "output_type": "execute_result"
    }
   ],
   "source": [
    "pd.read_sql('SELECT * FROM Measures;', con).tail()"
   ]
  },
  {
   "cell_type": "code",
   "execution_count": null,
   "id": "99699b9d",
   "metadata": {},
   "outputs": [],
   "source": [
    "\"\"\"INSERT INTO Teams (team_number, team_name, city, state, country)\n",
    "        VALUES ('frc360', 'The Revolution', 'Issaquah', 'Washington', 'USA');\"\"\""
   ]
  },
  {
   "cell_type": "code",
   "execution_count": 13,
   "id": "2799e7ea",
   "metadata": {},
   "outputs": [],
   "source": [
    "con.close()"
   ]
  },
  {
   "cell_type": "code",
   "execution_count": null,
   "id": "f2ed7480",
   "metadata": {},
   "outputs": [],
   "source": []
  }
 ],
 "metadata": {
  "kernelspec": {
   "display_name": "Python 3",
   "language": "python",
   "name": "python3"
  },
  "language_info": {
   "codemirror_mode": {
    "name": "ipython",
    "version": 3
   },
   "file_extension": ".py",
   "mimetype": "text/x-python",
   "name": "python",
   "nbconvert_exporter": "python",
   "pygments_lexer": "ipython3",
   "version": "3.9.7"
  }
 },
 "nbformat": 4,
 "nbformat_minor": 5
}
