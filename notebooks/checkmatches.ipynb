{
 "cells": [
  {
   "cell_type": "code",
   "execution_count": 4,
   "id": "d6acc85a",
   "metadata": {},
   "outputs": [],
   "source": [
    "import pandas as pd\n",
    "import server.database as db\n",
    "import sqlite3\n",
    "import server.tba as tba"
   ]
  },
  {
   "cell_type": "code",
   "execution_count": 2,
   "id": "1b123779",
   "metadata": {},
   "outputs": [],
   "source": [
    "con = db.get_con()"
   ]
  },
  {
   "cell_type": "code",
   "execution_count": 3,
   "id": "9008a3c0",
   "metadata": {},
   "outputs": [
    {
     "data": {
      "text/html": [
       "<div>\n",
       "<style scoped>\n",
       "    .dataframe tbody tr th:only-of-type {\n",
       "        vertical-align: middle;\n",
       "    }\n",
       "\n",
       "    .dataframe tbody tr th {\n",
       "        vertical-align: top;\n",
       "    }\n",
       "\n",
       "    .dataframe thead th {\n",
       "        text-align: right;\n",
       "    }\n",
       "</style>\n",
       "<table border=\"1\" class=\"dataframe\">\n",
       "  <thead>\n",
       "    <tr style=\"text-align: right;\">\n",
       "      <th></th>\n",
       "      <th>match</th>\n",
       "      <th>match_time</th>\n",
       "      <th>alliance</th>\n",
       "      <th>station</th>\n",
       "      <th>team_number</th>\n",
       "    </tr>\n",
       "  </thead>\n",
       "  <tbody>\n",
       "    <tr>\n",
       "      <th>0</th>\n",
       "      <td>qm1</td>\n",
       "      <td>2022-04-02 21:15:00</td>\n",
       "      <td>blue</td>\n",
       "      <td>1</td>\n",
       "      <td>frc2097</td>\n",
       "    </tr>\n",
       "    <tr>\n",
       "      <th>1</th>\n",
       "      <td>qm1</td>\n",
       "      <td>2022-04-02 21:15:00</td>\n",
       "      <td>blue</td>\n",
       "      <td>2</td>\n",
       "      <td>frc4579</td>\n",
       "    </tr>\n",
       "    <tr>\n",
       "      <th>2</th>\n",
       "      <td>qm1</td>\n",
       "      <td>2022-04-02 21:15:00</td>\n",
       "      <td>blue</td>\n",
       "      <td>3</td>\n",
       "      <td>frc4469</td>\n",
       "    </tr>\n",
       "    <tr>\n",
       "      <th>3</th>\n",
       "      <td>qm1</td>\n",
       "      <td>2022-04-02 21:15:00</td>\n",
       "      <td>red</td>\n",
       "      <td>1</td>\n",
       "      <td>frc8386</td>\n",
       "    </tr>\n",
       "    <tr>\n",
       "      <th>4</th>\n",
       "      <td>qm1</td>\n",
       "      <td>2022-04-02 21:15:00</td>\n",
       "      <td>red</td>\n",
       "      <td>2</td>\n",
       "      <td>frc8303</td>\n",
       "    </tr>\n",
       "    <tr>\n",
       "      <th>...</th>\n",
       "      <td>...</td>\n",
       "      <td>...</td>\n",
       "      <td>...</td>\n",
       "      <td>...</td>\n",
       "      <td>...</td>\n",
       "    </tr>\n",
       "    <tr>\n",
       "      <th>367</th>\n",
       "      <td>qm62</td>\n",
       "      <td>2022-04-03 18:22:00</td>\n",
       "      <td>blue</td>\n",
       "      <td>2</td>\n",
       "      <td>frc1258</td>\n",
       "    </tr>\n",
       "    <tr>\n",
       "      <th>368</th>\n",
       "      <td>qm62</td>\n",
       "      <td>2022-04-03 18:22:00</td>\n",
       "      <td>blue</td>\n",
       "      <td>3</td>\n",
       "      <td>frc3588</td>\n",
       "    </tr>\n",
       "    <tr>\n",
       "      <th>369</th>\n",
       "      <td>qm62</td>\n",
       "      <td>2022-04-03 18:22:00</td>\n",
       "      <td>red</td>\n",
       "      <td>1</td>\n",
       "      <td>frc2929</td>\n",
       "    </tr>\n",
       "    <tr>\n",
       "      <th>370</th>\n",
       "      <td>qm62</td>\n",
       "      <td>2022-04-03 18:22:00</td>\n",
       "      <td>red</td>\n",
       "      <td>2</td>\n",
       "      <td>frc5941</td>\n",
       "    </tr>\n",
       "    <tr>\n",
       "      <th>371</th>\n",
       "      <td>qm62</td>\n",
       "      <td>2022-04-03 18:22:00</td>\n",
       "      <td>red</td>\n",
       "      <td>3</td>\n",
       "      <td>frc4918</td>\n",
       "    </tr>\n",
       "  </tbody>\n",
       "</table>\n",
       "<p>372 rows × 5 columns</p>\n",
       "</div>"
      ],
      "text/plain": [
       "    match           match_time alliance  station team_number\n",
       "0     qm1  2022-04-02 21:15:00     blue        1     frc2097\n",
       "1     qm1  2022-04-02 21:15:00     blue        2     frc4579\n",
       "2     qm1  2022-04-02 21:15:00     blue        3     frc4469\n",
       "3     qm1  2022-04-02 21:15:00      red        1     frc8386\n",
       "4     qm1  2022-04-02 21:15:00      red        2     frc8303\n",
       "..    ...                  ...      ...      ...         ...\n",
       "367  qm62  2022-04-03 18:22:00     blue        2     frc1258\n",
       "368  qm62  2022-04-03 18:22:00     blue        3     frc3588\n",
       "369  qm62  2022-04-03 18:22:00      red        1     frc2929\n",
       "370  qm62  2022-04-03 18:22:00      red        2     frc5941\n",
       "371  qm62  2022-04-03 18:22:00      red        3     frc4918\n",
       "\n",
       "[372 rows x 5 columns]"
      ]
     },
     "execution_count": 3,
     "metadata": {},
     "output_type": "execute_result"
    }
   ],
   "source": [
    "pd.read_sql('SELECT * FROM Matches;', con)"
   ]
  },
  {
   "cell_type": "code",
   "execution_count": 6,
   "id": "f03e522a",
   "metadata": {},
   "outputs": [],
   "source": [
    "matches = tba.get_matches('2022wabon')"
   ]
  },
  {
   "cell_type": "code",
   "execution_count": 29,
   "id": "8d815845",
   "metadata": {},
   "outputs": [
    {
     "data": {
      "text/plain": [
       "['qm2',\n",
       " 'qm7',\n",
       " 'qm12',\n",
       " 'qm20',\n",
       " 'qm24',\n",
       " 'qm31',\n",
       " 'qm34',\n",
       " 'qm38',\n",
       " 'qm46',\n",
       " 'qm52',\n",
       " 'qm55',\n",
       " 'qm58']"
      ]
     },
     "execution_count": 29,
     "metadata": {},
     "output_type": "execute_result"
    }
   ],
   "source": [
    "our_matches = []\n",
    "for ind, match in enumerate(matches):\n",
    "    if match['team_number'] == 'frc1318':\n",
    "        our_matches.append(match['match'])\n",
    "our_matches"
   ]
  },
  {
   "cell_type": "code",
   "execution_count": 33,
   "id": "76c426a7",
   "metadata": {},
   "outputs": [],
   "source": [
    "m2 = []"
   ]
  },
  {
   "cell_type": "code",
   "execution_count": 34,
   "id": "9a3c112b",
   "metadata": {},
   "outputs": [],
   "source": [
    "for match in matches:\n",
    "    if int(match['match'][2:]) in [2,7,12,20,24,31,34,38,46,52,58,55]:\n",
    "        m2.append(match)"
   ]
  },
  {
   "cell_type": "code",
   "execution_count": 35,
   "id": "235f0875",
   "metadata": {},
   "outputs": [],
   "source": [
    "mdf = pd.DataFrame(m2)"
   ]
  },
  {
   "cell_type": "code",
   "execution_count": 36,
   "id": "61a20ada",
   "metadata": {},
   "outputs": [],
   "source": [
    "mdf['team_number'] = pd.to_numeric(mdf['team_number'].str[3:])"
   ]
  },
  {
   "cell_type": "code",
   "execution_count": null,
   "id": "513ee907",
   "metadata": {},
   "outputs": [],
   "source": [
    "for "
   ]
  },
  {
   "cell_type": "code",
   "execution_count": 25,
   "id": "6f6c2001",
   "metadata": {},
   "outputs": [
    {
     "data": {
      "text/html": [
       "<div>\n",
       "<style scoped>\n",
       "    .dataframe tbody tr th:only-of-type {\n",
       "        vertical-align: middle;\n",
       "    }\n",
       "\n",
       "    .dataframe tbody tr th {\n",
       "        vertical-align: top;\n",
       "    }\n",
       "\n",
       "    .dataframe thead th {\n",
       "        text-align: right;\n",
       "    }\n",
       "</style>\n",
       "<table border=\"1\" class=\"dataframe\">\n",
       "  <thead>\n",
       "    <tr style=\"text-align: right;\">\n",
       "      <th></th>\n",
       "      <th>match</th>\n",
       "      <th>station</th>\n",
       "      <th>team_number</th>\n",
       "      <th>alliance</th>\n",
       "      <th>match_time</th>\n",
       "    </tr>\n",
       "  </thead>\n",
       "  <tbody>\n",
       "    <tr>\n",
       "      <th>4</th>\n",
       "      <td>qm2</td>\n",
       "      <td>2</td>\n",
       "      <td>3218</td>\n",
       "      <td>red</td>\n",
       "      <td>2022-04-02 21:25:00</td>\n",
       "    </tr>\n",
       "    <tr>\n",
       "      <th>35</th>\n",
       "      <td>qm31</td>\n",
       "      <td>3</td>\n",
       "      <td>3218</td>\n",
       "      <td>red</td>\n",
       "      <td>2022-04-03 01:33:00</td>\n",
       "    </tr>\n",
       "    <tr>\n",
       "      <th>59</th>\n",
       "      <td>qm52</td>\n",
       "      <td>3</td>\n",
       "      <td>3218</td>\n",
       "      <td>red</td>\n",
       "      <td>2022-04-03 17:12:00</td>\n",
       "    </tr>\n",
       "  </tbody>\n",
       "</table>\n",
       "</div>"
      ],
      "text/plain": [
       "   match  station  team_number alliance           match_time\n",
       "4    qm2        2         3218      red  2022-04-02 21:25:00\n",
       "35  qm31        3         3218      red  2022-04-03 01:33:00\n",
       "59  qm52        3         3218      red  2022-04-03 17:12:00"
      ]
     },
     "execution_count": 25,
     "metadata": {},
     "output_type": "execute_result"
    }
   ],
   "source": [
    "mdf[mdf['team_number']==3218]"
   ]
  },
  {
   "cell_type": "code",
   "execution_count": 26,
   "id": "43770f92",
   "metadata": {},
   "outputs": [
    {
     "data": {
      "text/html": [
       "<div>\n",
       "<style scoped>\n",
       "    .dataframe tbody tr th:only-of-type {\n",
       "        vertical-align: middle;\n",
       "    }\n",
       "\n",
       "    .dataframe tbody tr th {\n",
       "        vertical-align: top;\n",
       "    }\n",
       "\n",
       "    .dataframe thead th {\n",
       "        text-align: right;\n",
       "    }\n",
       "</style>\n",
       "<table border=\"1\" class=\"dataframe\">\n",
       "  <thead>\n",
       "    <tr style=\"text-align: right;\">\n",
       "      <th></th>\n",
       "      <th>match</th>\n",
       "      <th>station</th>\n",
       "      <th>team_number</th>\n",
       "      <th>alliance</th>\n",
       "      <th>match_time</th>\n",
       "    </tr>\n",
       "  </thead>\n",
       "  <tbody>\n",
       "    <tr>\n",
       "      <th>5</th>\n",
       "      <td>qm2</td>\n",
       "      <td>3</td>\n",
       "      <td>1318</td>\n",
       "      <td>red</td>\n",
       "      <td>2022-04-02 21:25:00</td>\n",
       "    </tr>\n",
       "    <tr>\n",
       "      <th>7</th>\n",
       "      <td>qm7</td>\n",
       "      <td>2</td>\n",
       "      <td>1318</td>\n",
       "      <td>blue</td>\n",
       "      <td>2022-04-02 22:15:00</td>\n",
       "    </tr>\n",
       "    <tr>\n",
       "      <th>12</th>\n",
       "      <td>qm12</td>\n",
       "      <td>1</td>\n",
       "      <td>1318</td>\n",
       "      <td>blue</td>\n",
       "      <td>2022-04-02 22:57:30</td>\n",
       "    </tr>\n",
       "    <tr>\n",
       "      <th>22</th>\n",
       "      <td>qm20</td>\n",
       "      <td>2</td>\n",
       "      <td>1318</td>\n",
       "      <td>red</td>\n",
       "      <td>2022-04-03 00:16:00</td>\n",
       "    </tr>\n",
       "    <tr>\n",
       "      <th>27</th>\n",
       "      <td>qm24</td>\n",
       "      <td>1</td>\n",
       "      <td>1318</td>\n",
       "      <td>red</td>\n",
       "      <td>2022-04-03 00:44:00</td>\n",
       "    </tr>\n",
       "    <tr>\n",
       "      <th>34</th>\n",
       "      <td>qm31</td>\n",
       "      <td>2</td>\n",
       "      <td>1318</td>\n",
       "      <td>red</td>\n",
       "      <td>2022-04-03 01:33:00</td>\n",
       "    </tr>\n",
       "    <tr>\n",
       "      <th>39</th>\n",
       "      <td>qm34</td>\n",
       "      <td>1</td>\n",
       "      <td>1318</td>\n",
       "      <td>red</td>\n",
       "      <td>2022-04-03 02:14:00</td>\n",
       "    </tr>\n",
       "    <tr>\n",
       "      <th>42</th>\n",
       "      <td>qm38</td>\n",
       "      <td>1</td>\n",
       "      <td>1318</td>\n",
       "      <td>blue</td>\n",
       "      <td>2022-04-03 02:42:00</td>\n",
       "    </tr>\n",
       "    <tr>\n",
       "      <th>50</th>\n",
       "      <td>qm46</td>\n",
       "      <td>3</td>\n",
       "      <td>1318</td>\n",
       "      <td>blue</td>\n",
       "      <td>2022-04-03 16:30:00</td>\n",
       "    </tr>\n",
       "    <tr>\n",
       "      <th>55</th>\n",
       "      <td>qm52</td>\n",
       "      <td>2</td>\n",
       "      <td>1318</td>\n",
       "      <td>blue</td>\n",
       "      <td>2022-04-03 17:12:00</td>\n",
       "    </tr>\n",
       "    <tr>\n",
       "      <th>62</th>\n",
       "      <td>qm55</td>\n",
       "      <td>3</td>\n",
       "      <td>1318</td>\n",
       "      <td>blue</td>\n",
       "      <td>2022-04-03 17:33:00</td>\n",
       "    </tr>\n",
       "    <tr>\n",
       "      <th>71</th>\n",
       "      <td>qm58</td>\n",
       "      <td>3</td>\n",
       "      <td>1318</td>\n",
       "      <td>red</td>\n",
       "      <td>2022-04-03 17:54:00</td>\n",
       "    </tr>\n",
       "  </tbody>\n",
       "</table>\n",
       "</div>"
      ],
      "text/plain": [
       "   match  station  team_number alliance           match_time\n",
       "5    qm2        3         1318      red  2022-04-02 21:25:00\n",
       "7    qm7        2         1318     blue  2022-04-02 22:15:00\n",
       "12  qm12        1         1318     blue  2022-04-02 22:57:30\n",
       "22  qm20        2         1318      red  2022-04-03 00:16:00\n",
       "27  qm24        1         1318      red  2022-04-03 00:44:00\n",
       "34  qm31        2         1318      red  2022-04-03 01:33:00\n",
       "39  qm34        1         1318      red  2022-04-03 02:14:00\n",
       "42  qm38        1         1318     blue  2022-04-03 02:42:00\n",
       "50  qm46        3         1318     blue  2022-04-03 16:30:00\n",
       "55  qm52        2         1318     blue  2022-04-03 17:12:00\n",
       "62  qm55        3         1318     blue  2022-04-03 17:33:00\n",
       "71  qm58        3         1318      red  2022-04-03 17:54:00"
      ]
     },
     "execution_count": 26,
     "metadata": {},
     "output_type": "execute_result"
    }
   ],
   "source": [
    "mdf[mdf['team_number']==1318]  "
   ]
  },
  {
   "cell_type": "code",
   "execution_count": 31,
   "id": "7acc7a6a",
   "metadata": {},
   "outputs": [],
   "source": [
    "# twodmatch = []\n",
    "# for match in our_matches:\n",
    "#     onedmatch = []\n",
    "#     print(mdf[mdf.match == match]['team_number'])"
   ]
  },
  {
   "cell_type": "code",
   "execution_count": 77,
   "id": "86412e85",
   "metadata": {},
   "outputs": [
    {
     "data": {
      "text/plain": [
       "29    red\n",
       "Name: alliance, dtype: object"
      ]
     },
     "execution_count": 77,
     "metadata": {},
     "output_type": "execute_result"
    }
   ],
   "source": [
    "mdf[mdf['team_number']==2910]['alliance']"
   ]
  },
  {
   "cell_type": "code",
   "execution_count": 78,
   "id": "df6594fb",
   "metadata": {},
   "outputs": [
    {
     "data": {
      "text/plain": [
       "27    red\n",
       "Name: alliance, dtype: object"
      ]
     },
     "execution_count": 78,
     "metadata": {},
     "output_type": "execute_result"
    }
   ],
   "source": [
    "mdf.loc[(mdf['team_number']==1318)&(mdf['match'].isin(list(mdf.query(\"team_number == 2910\")['match'])))]['alliance']"
   ]
  },
  {
   "cell_type": "code",
   "execution_count": 83,
   "id": "1ee1db12",
   "metadata": {},
   "outputs": [],
   "source": [
    "for i in range(10):\n",
    "    type(mdf.iloc[i])"
   ]
  },
  {
   "cell_type": "code",
   "execution_count": 112,
   "id": "74c5a015",
   "metadata": {},
   "outputs": [],
   "source": [
    "for i in mdf.iterrows():\n",
    "    ourmatch = mdf[(mdf['team_number'] == 1318)&(mdf['match'] == i[1][0])]\n",
    "    theiralliance = mdf.iloc[i[0]]['alliance']\n",
    "    ouralliance = ourmatch['alliance']"
   ]
  },
  {
   "cell_type": "code",
   "execution_count": 109,
   "id": "d5f22711",
   "metadata": {},
   "outputs": [],
   "source": [
    "s1 = mdf[(mdf['team_number']==1318)&(mdf['match']=='qm2')]['alliance']"
   ]
  },
  {
   "cell_type": "code",
   "execution_count": null,
   "id": "a8eef24c",
   "metadata": {},
   "outputs": [],
   "source": [
    "pd.Series"
   ]
  }
 ],
 "metadata": {
  "kernelspec": {
   "display_name": "Python 3 (ipykernel)",
   "language": "python",
   "name": "python3"
  },
  "language_info": {
   "codemirror_mode": {
    "name": "ipython",
    "version": 3
   },
   "file_extension": ".py",
   "mimetype": "text/x-python",
   "name": "python",
   "nbconvert_exporter": "python",
   "pygments_lexer": "ipython3",
   "version": "3.9.7"
  }
 },
 "nbformat": 4,
 "nbformat_minor": 5
}
