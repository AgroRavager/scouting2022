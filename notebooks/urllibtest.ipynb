{
 "cells": [
  {
   "cell_type": "code",
   "execution_count": 1,
   "id": "5e847fe2",
   "metadata": {},
   "outputs": [],
   "source": [
    "import urllib.request\n",
    "import main\n",
    "import pathlib\n",
    "import server.tba as tba\n",
    "import server.database as database\n",
    "import server.event as event"
   ]
  },
  {
   "cell_type": "code",
   "execution_count": 3,
   "id": "563362c3",
   "metadata": {},
   "outputs": [
    {
     "data": {
      "text/plain": [
       "(WindowsPath('C:/Users/shaur/Python/scouting2022/scouter/random.pickle'),\n",
       " <http.client.HTTPMessage at 0x21a57f63790>)"
      ]
     },
     "execution_count": 3,
     "metadata": {},
     "output_type": "execute_result"
    }
   ],
   "source": [
    "url = 'http://127.0.0.1:8131/get-pickle'\n",
    "path = pathlib.Path().absolute().joinpath('random.pickle')\n",
    "urllib.request.urlretrieve(url, path)"
   ]
  },
  {
   "cell_type": "code",
   "execution_count": 4,
   "id": "15a845ee",
   "metadata": {},
   "outputs": [
    {
     "data": {
      "text/plain": [
       "WindowsPath('C:/Users/shaur/Python/scouting2022/scouter')"
      ]
     },
     "execution_count": 4,
     "metadata": {},
     "output_type": "execute_result"
    }
   ],
   "source": [
    "path = pathlib.Path().absolute()\n",
    "print(path)"
   ]
  },
  {
   "cell_type": "code",
   "execution_count": 34,
   "id": "22262e9c",
   "metadata": {},
   "outputs": [],
   "source": [
    "@database.connect\n",
    "def get_measure(match, phase, team_number, task, measurenum, con = None):\n",
    "    cur=con.cursor()\n",
    "    query = \"\"\"SELECT ? FROM Measures WHERE match = ?\n",
    "                AND phase = ? AND team_number = ?\n",
    "                AND task = ?;\"\"\"\n",
    "#     if measurenum == 1:\n",
    "#         measurenum = 'measure1'\n",
    "#     elif measurenum == 2:\n",
    "#         measurenum = 'measure2'\n",
    "    cur.execute(query, (measurenum, match, phase, team_number, task))\n",
    "    return cur.fetchone()[0]"
   ]
  },
  {
   "cell_type": "code",
   "execution_count": 35,
   "id": "53637d11",
   "metadata": {},
   "outputs": [
    {
     "data": {
      "text/plain": [
       "'measure1'"
      ]
     },
     "execution_count": 35,
     "metadata": {},
     "output_type": "execute_result"
    }
   ],
   "source": [
    "get_measure('qm17', 'auto', 'frc2412', 'taxi', 'measure1')"
   ]
  },
  {
   "cell_type": "code",
   "execution_count": 36,
   "id": "904383e0",
   "metadata": {
    "scrolled": true
   },
   "outputs": [
    {
     "data": {
      "text/plain": [
       "'true'"
      ]
     },
     "execution_count": 36,
     "metadata": {},
     "output_type": "execute_result"
    }
   ],
   "source": [
    "@connect\n",
    "def get_measure(match, phase, team_number, task, measurenum, con = None):\n",
    "    cur=con.cursor()\n",
    "    query = f\"\"\"SELECT {measurenum} FROM Measures WHERE match = ?\n",
    "                AND phase = ? AND team_number = ?\n",
    "                AND task = ?;\"\"\"\n",
    "    cur.execute(query, (match, phase, team_number, task))\n",
    "    return cur.fetchone()[0]\n",
    "get_measure('qm17', 'auto', 'frc2412', 'taxi', 'measure1')"
   ]
  },
  {
   "cell_type": "code",
   "execution_count": 24,
   "id": "f01f9965",
   "metadata": {},
   "outputs": [],
   "source": [
    "@database.connect\n",
    "def get_measure1(match, phase, team_number, task, con = None):\n",
    "    cur=con.cursor()\n",
    "    query = \"\"\"SELECT measure1 FROM Measures WHERE match = ?\n",
    "                AND phase = ? AND team_number = ?\n",
    "                AND task = ?;\"\"\"\n",
    "    cur.execute(query, (match, phase, team_number, task))\n",
    "    return cur.fetchone()[0]"
   ]
  },
  {
   "cell_type": "code",
   "execution_count": 25,
   "id": "ae3e4a2a",
   "metadata": {},
   "outputs": [
    {
     "data": {
      "text/plain": [
       "'true'"
      ]
     },
     "execution_count": 25,
     "metadata": {},
     "output_type": "execute_result"
    }
   ],
   "source": [
    "get_measure1('qm17', 'auto', 'frc2412', 'taxi')"
   ]
  },
  {
   "cell_type": "code",
   "execution_count": null,
   "id": "8f0855fd",
   "metadata": {},
   "outputs": [],
   "source": []
  }
 ],
 "metadata": {
  "kernelspec": {
   "display_name": "Python 3",
   "language": "python",
   "name": "python3"
  },
  "language_info": {
   "codemirror_mode": {
    "name": "ipython",
    "version": 3
   },
   "file_extension": ".py",
   "mimetype": "text/x-python",
   "name": "python",
   "nbconvert_exporter": "python",
   "pygments_lexer": "ipython3",
   "version": "3.8.10"
  }
 },
 "nbformat": 4,
 "nbformat_minor": 5
}
